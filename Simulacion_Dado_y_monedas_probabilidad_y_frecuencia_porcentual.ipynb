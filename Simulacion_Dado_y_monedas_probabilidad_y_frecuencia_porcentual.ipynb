{
  "nbformat": 4,
  "nbformat_minor": 0,
  "metadata": {
    "colab": {
      "provenance": []
    },
    "kernelspec": {
      "name": "python3",
      "display_name": "Python 3"
    },
    "language_info": {
      "name": "python"
    },
    "widgets": {
      "application/vnd.jupyter.widget-state+json": {
        "a5039fb3dd9f4b20980c3a3132efbc80": {
          "model_module": "@jupyter-widgets/controls",
          "model_name": "VBoxModel",
          "model_module_version": "1.5.0",
          "state": {
            "_dom_classes": [
              "widget-interact"
            ],
            "_model_module": "@jupyter-widgets/controls",
            "_model_module_version": "1.5.0",
            "_model_name": "VBoxModel",
            "_view_count": null,
            "_view_module": "@jupyter-widgets/controls",
            "_view_module_version": "1.5.0",
            "_view_name": "VBoxView",
            "box_style": "",
            "children": [
              "IPY_MODEL_7bd2860cf8fb46048a51b7f5f127db72",
              "IPY_MODEL_e29a069aea65427486622ac4d7769bd7",
              "IPY_MODEL_3f2b3b85626e4e3daecbc62332014705"
            ],
            "layout": "IPY_MODEL_4b091b2db6914021b95893572ac37e4b"
          }
        },
        "7bd2860cf8fb46048a51b7f5f127db72": {
          "model_module": "@jupyter-widgets/controls",
          "model_name": "IntSliderModel",
          "model_module_version": "1.5.0",
          "state": {
            "_dom_classes": [],
            "_model_module": "@jupyter-widgets/controls",
            "_model_module_version": "1.5.0",
            "_model_name": "IntSliderModel",
            "_view_count": null,
            "_view_module": "@jupyter-widgets/controls",
            "_view_module_version": "1.5.0",
            "_view_name": "IntSliderView",
            "continuous_update": true,
            "description": "n",
            "description_tooltip": null,
            "disabled": false,
            "layout": "IPY_MODEL_4ca26ff9bce647bb9c8d272e9420c6bd",
            "max": 1000,
            "min": 1,
            "orientation": "horizontal",
            "readout": true,
            "readout_format": "d",
            "step": 1,
            "style": "IPY_MODEL_566f3d2181914875879275536858bb5b",
            "value": 251
          }
        },
        "e29a069aea65427486622ac4d7769bd7": {
          "model_module": "@jupyter-widgets/controls",
          "model_name": "ButtonModel",
          "model_module_version": "1.5.0",
          "state": {
            "_dom_classes": [],
            "_model_module": "@jupyter-widgets/controls",
            "_model_module_version": "1.5.0",
            "_model_name": "ButtonModel",
            "_view_count": null,
            "_view_module": "@jupyter-widgets/controls",
            "_view_module_version": "1.5.0",
            "_view_name": "ButtonView",
            "button_style": "",
            "description": "Run Interact",
            "disabled": false,
            "icon": "",
            "layout": "IPY_MODEL_6f52f93dbba04051a695ec28f88cdbfb",
            "style": "IPY_MODEL_03ae7fb7d1ab4d2a847b201978c39b95",
            "tooltip": ""
          }
        },
        "3f2b3b85626e4e3daecbc62332014705": {
          "model_module": "@jupyter-widgets/output",
          "model_name": "OutputModel",
          "model_module_version": "1.0.0",
          "state": {
            "_dom_classes": [],
            "_model_module": "@jupyter-widgets/output",
            "_model_module_version": "1.0.0",
            "_model_name": "OutputModel",
            "_view_count": null,
            "_view_module": "@jupyter-widgets/output",
            "_view_module_version": "1.0.0",
            "_view_name": "OutputView",
            "layout": "IPY_MODEL_52ffeaa9d8ce449998e27173d28d3fc0",
            "msg_id": "",
            "outputs": [
              {
                "output_type": "display_data",
                "data": {
                  "text/plain": "<Figure size 640x480 with 1 Axes>",
                  "image/png": "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\n"
                },
                "metadata": {}
              }
            ]
          }
        },
        "4b091b2db6914021b95893572ac37e4b": {
          "model_module": "@jupyter-widgets/base",
          "model_name": "LayoutModel",
          "model_module_version": "1.2.0",
          "state": {
            "_model_module": "@jupyter-widgets/base",
            "_model_module_version": "1.2.0",
            "_model_name": "LayoutModel",
            "_view_count": null,
            "_view_module": "@jupyter-widgets/base",
            "_view_module_version": "1.2.0",
            "_view_name": "LayoutView",
            "align_content": null,
            "align_items": null,
            "align_self": null,
            "border": null,
            "bottom": null,
            "display": null,
            "flex": null,
            "flex_flow": null,
            "grid_area": null,
            "grid_auto_columns": null,
            "grid_auto_flow": null,
            "grid_auto_rows": null,
            "grid_column": null,
            "grid_gap": null,
            "grid_row": null,
            "grid_template_areas": null,
            "grid_template_columns": null,
            "grid_template_rows": null,
            "height": null,
            "justify_content": null,
            "justify_items": null,
            "left": null,
            "margin": null,
            "max_height": null,
            "max_width": null,
            "min_height": null,
            "min_width": null,
            "object_fit": null,
            "object_position": null,
            "order": null,
            "overflow": null,
            "overflow_x": null,
            "overflow_y": null,
            "padding": null,
            "right": null,
            "top": null,
            "visibility": null,
            "width": null
          }
        },
        "4ca26ff9bce647bb9c8d272e9420c6bd": {
          "model_module": "@jupyter-widgets/base",
          "model_name": "LayoutModel",
          "model_module_version": "1.2.0",
          "state": {
            "_model_module": "@jupyter-widgets/base",
            "_model_module_version": "1.2.0",
            "_model_name": "LayoutModel",
            "_view_count": null,
            "_view_module": "@jupyter-widgets/base",
            "_view_module_version": "1.2.0",
            "_view_name": "LayoutView",
            "align_content": null,
            "align_items": null,
            "align_self": null,
            "border": null,
            "bottom": null,
            "display": null,
            "flex": null,
            "flex_flow": null,
            "grid_area": null,
            "grid_auto_columns": null,
            "grid_auto_flow": null,
            "grid_auto_rows": null,
            "grid_column": null,
            "grid_gap": null,
            "grid_row": null,
            "grid_template_areas": null,
            "grid_template_columns": null,
            "grid_template_rows": null,
            "height": null,
            "justify_content": null,
            "justify_items": null,
            "left": null,
            "margin": null,
            "max_height": null,
            "max_width": null,
            "min_height": null,
            "min_width": null,
            "object_fit": null,
            "object_position": null,
            "order": null,
            "overflow": null,
            "overflow_x": null,
            "overflow_y": null,
            "padding": null,
            "right": null,
            "top": null,
            "visibility": null,
            "width": null
          }
        },
        "566f3d2181914875879275536858bb5b": {
          "model_module": "@jupyter-widgets/controls",
          "model_name": "SliderStyleModel",
          "model_module_version": "1.5.0",
          "state": {
            "_model_module": "@jupyter-widgets/controls",
            "_model_module_version": "1.5.0",
            "_model_name": "SliderStyleModel",
            "_view_count": null,
            "_view_module": "@jupyter-widgets/base",
            "_view_module_version": "1.2.0",
            "_view_name": "StyleView",
            "description_width": "",
            "handle_color": null
          }
        },
        "6f52f93dbba04051a695ec28f88cdbfb": {
          "model_module": "@jupyter-widgets/base",
          "model_name": "LayoutModel",
          "model_module_version": "1.2.0",
          "state": {
            "_model_module": "@jupyter-widgets/base",
            "_model_module_version": "1.2.0",
            "_model_name": "LayoutModel",
            "_view_count": null,
            "_view_module": "@jupyter-widgets/base",
            "_view_module_version": "1.2.0",
            "_view_name": "LayoutView",
            "align_content": null,
            "align_items": null,
            "align_self": null,
            "border": null,
            "bottom": null,
            "display": null,
            "flex": null,
            "flex_flow": null,
            "grid_area": null,
            "grid_auto_columns": null,
            "grid_auto_flow": null,
            "grid_auto_rows": null,
            "grid_column": null,
            "grid_gap": null,
            "grid_row": null,
            "grid_template_areas": null,
            "grid_template_columns": null,
            "grid_template_rows": null,
            "height": null,
            "justify_content": null,
            "justify_items": null,
            "left": null,
            "margin": null,
            "max_height": null,
            "max_width": null,
            "min_height": null,
            "min_width": null,
            "object_fit": null,
            "object_position": null,
            "order": null,
            "overflow": null,
            "overflow_x": null,
            "overflow_y": null,
            "padding": null,
            "right": null,
            "top": null,
            "visibility": null,
            "width": null
          }
        },
        "03ae7fb7d1ab4d2a847b201978c39b95": {
          "model_module": "@jupyter-widgets/controls",
          "model_name": "ButtonStyleModel",
          "model_module_version": "1.5.0",
          "state": {
            "_model_module": "@jupyter-widgets/controls",
            "_model_module_version": "1.5.0",
            "_model_name": "ButtonStyleModel",
            "_view_count": null,
            "_view_module": "@jupyter-widgets/base",
            "_view_module_version": "1.2.0",
            "_view_name": "StyleView",
            "button_color": null,
            "font_weight": ""
          }
        },
        "52ffeaa9d8ce449998e27173d28d3fc0": {
          "model_module": "@jupyter-widgets/base",
          "model_name": "LayoutModel",
          "model_module_version": "1.2.0",
          "state": {
            "_model_module": "@jupyter-widgets/base",
            "_model_module_version": "1.2.0",
            "_model_name": "LayoutModel",
            "_view_count": null,
            "_view_module": "@jupyter-widgets/base",
            "_view_module_version": "1.2.0",
            "_view_name": "LayoutView",
            "align_content": null,
            "align_items": null,
            "align_self": null,
            "border": null,
            "bottom": null,
            "display": null,
            "flex": null,
            "flex_flow": null,
            "grid_area": null,
            "grid_auto_columns": null,
            "grid_auto_flow": null,
            "grid_auto_rows": null,
            "grid_column": null,
            "grid_gap": null,
            "grid_row": null,
            "grid_template_areas": null,
            "grid_template_columns": null,
            "grid_template_rows": null,
            "height": null,
            "justify_content": null,
            "justify_items": null,
            "left": null,
            "margin": null,
            "max_height": null,
            "max_width": null,
            "min_height": null,
            "min_width": null,
            "object_fit": null,
            "object_position": null,
            "order": null,
            "overflow": null,
            "overflow_x": null,
            "overflow_y": null,
            "padding": null,
            "right": null,
            "top": null,
            "visibility": null,
            "width": null
          }
        },
        "dd2512c6577f4b738f0d3e55e74386c2": {
          "model_module": "@jupyter-widgets/controls",
          "model_name": "VBoxModel",
          "model_module_version": "1.5.0",
          "state": {
            "_dom_classes": [
              "widget-interact"
            ],
            "_model_module": "@jupyter-widgets/controls",
            "_model_module_version": "1.5.0",
            "_model_name": "VBoxModel",
            "_view_count": null,
            "_view_module": "@jupyter-widgets/controls",
            "_view_module_version": "1.5.0",
            "_view_name": "VBoxView",
            "box_style": "",
            "children": [
              "IPY_MODEL_ff8006a490294821b79699ef0574edd8",
              "IPY_MODEL_53ce2924dd564362a4d1d498bc64eecb",
              "IPY_MODEL_e9570fd2d8604a4bb781b629556fb180"
            ],
            "layout": "IPY_MODEL_a3d0b5edadb748818ba2f8f60257c115"
          }
        },
        "ff8006a490294821b79699ef0574edd8": {
          "model_module": "@jupyter-widgets/controls",
          "model_name": "IntSliderModel",
          "model_module_version": "1.5.0",
          "state": {
            "_dom_classes": [],
            "_model_module": "@jupyter-widgets/controls",
            "_model_module_version": "1.5.0",
            "_model_name": "IntSliderModel",
            "_view_count": null,
            "_view_module": "@jupyter-widgets/controls",
            "_view_module_version": "1.5.0",
            "_view_name": "IntSliderView",
            "continuous_update": true,
            "description": "n",
            "description_tooltip": null,
            "disabled": false,
            "layout": "IPY_MODEL_2baa37f2e8554b4ba0316db9e542501d",
            "max": 1000,
            "min": 1,
            "orientation": "horizontal",
            "readout": true,
            "readout_format": "d",
            "step": 1,
            "style": "IPY_MODEL_ad335d51ca2f4b51afa53536689696e9",
            "value": 251
          }
        },
        "53ce2924dd564362a4d1d498bc64eecb": {
          "model_module": "@jupyter-widgets/controls",
          "model_name": "ButtonModel",
          "model_module_version": "1.5.0",
          "state": {
            "_dom_classes": [],
            "_model_module": "@jupyter-widgets/controls",
            "_model_module_version": "1.5.0",
            "_model_name": "ButtonModel",
            "_view_count": null,
            "_view_module": "@jupyter-widgets/controls",
            "_view_module_version": "1.5.0",
            "_view_name": "ButtonView",
            "button_style": "",
            "description": "Run Interact",
            "disabled": false,
            "icon": "",
            "layout": "IPY_MODEL_c8826a57bcad442ab0aebbad31300473",
            "style": "IPY_MODEL_37e5adccd5f34309953f738f7b1ca312",
            "tooltip": ""
          }
        },
        "e9570fd2d8604a4bb781b629556fb180": {
          "model_module": "@jupyter-widgets/output",
          "model_name": "OutputModel",
          "model_module_version": "1.0.0",
          "state": {
            "_dom_classes": [],
            "_model_module": "@jupyter-widgets/output",
            "_model_module_version": "1.0.0",
            "_model_name": "OutputModel",
            "_view_count": null,
            "_view_module": "@jupyter-widgets/output",
            "_view_module_version": "1.0.0",
            "_view_name": "OutputView",
            "layout": "IPY_MODEL_892a00f053df4003afd8b52162f81c8c",
            "msg_id": "",
            "outputs": [
              {
                "output_type": "display_data",
                "data": {
                  "text/plain": "<Figure size 640x480 with 1 Axes>",
                  "image/png": "iVBORw0KGgoAAAANSUhEUgAAAjcAAAHHCAYAAABDUnkqAAAAOXRFWHRTb2Z0d2FyZQBNYXRwbG90bGliIHZlcnNpb24zLjcuMSwgaHR0cHM6Ly9tYXRwbG90bGliLm9yZy/bCgiHAAAACXBIWXMAAA9hAAAPYQGoP6dpAABgaElEQVR4nO3dd1gU1/s28Hspu5SlKEhREeyCYgNFbFhQ7CXGbkSssRssiYmKJUpi11hIUZIY89MYW6LGhpIYxS7GCGID9auCHayAcN4/fBkdd8EFQWByf65rL92zz8w8M2d2eXbmzKxKCCFAREREpBBGhZ0AERERUX5icUNERESKwuKGiIiIFIXFDRERESkKixsiIiJSFBY3REREpCgsboiIiEhRWNwQERGRorC4ISIiIkVhcUM5UqlUGDVqVL7N7/vvv4dKpcLx48ffGNusWTM0a9ZMep6QkACVSoXvv/9eaps+fTpUKpVBy1apVJg+fXouM85e1rokJCTk2zzzasCAAXBzc8vTtK9v5+y4ublhwIABeVpGcZSbfau4eFf7bFF6bxRnb/O+/q9jcVMMZX1wZD3MzMxQpUoVjBo1CklJSYWdHhEZ6MaNG5g+fTqio6MLOxUiRWFxU4zNnDkTa9aswbJly9CwYUOsXLkSvr6+ePLkSWGnli92796N3bt35xgzZcoUPH369B1lRP8l72LfunHjBmbMmMHihiifmRR2ApR3bdu2hbe3NwBg8ODBsLOzw8KFC7F161b07t1b7zSPHz+GpaXlu0wzz9Rq9RtjTExMYGLC3ZjyH/ctouKLR24UpEWLFgCA+Ph4AC/O12q1Wly6dAnt2rWDlZUV+vbtC+BFkTN+/Hi4uLhAo9GgatWqmD9/PrL7kfi1a9eiatWqMDMzg5eXF/766y/Z61euXMGIESNQtWpVmJubw87ODt27d8/2nPuTJ08wbNgw2NnZwdraGv3798f9+/dlMYaMBdE3LiI1NRUfffQRSpUqBSsrK3Tq1An/+9//dKbNTc5nz55FixYtYG5ujrJly+Lzzz9HZmam3pz++OMPNGnSBJaWlrCyskL79u1x9uxZWUxiYiKCgoJQtmxZaDQaODs7o3PnzgaNUdiyZQtq1KgBMzMz1KhRA5s3b9Ybl5mZicWLF6N69eowMzODo6Mjhg0bprOd8+revXuYMGECPD09odVqYW1tjbZt2+L06dOyuMjISKhUKvzyyy+YPXs2ypYtCzMzM7Rs2RIXL16U4l4/3frq49X9IDw8HC1atICDgwM0Gg08PDywcuVKnfzc3NzQoUMHREZGwtvbG+bm5vD09ERkZCQAYNOmTfD09JT26VOnTsmmz27MzU8//QQvLy+Ym5ujZMmS6NWrF65duyaLadasGWrUqIGYmBg0b94cFhYWKFOmDObOnSvbLvXq1QMABAUFSev66piyDRs2SMuyt7dHv379cP369Zw75v/L7302P5azYsUKVK9eHRqNBqVLl8bIkSPx4MEDWcyFCxfQrVs3ODk5wczMDGXLlkWvXr2QnJycYx5Z2/yff/6Bn58fLCwsUKlSJfz6668AgD///BM+Pj4wNzdH1apVsXfvXp15nDp1Cm3btoW1tTW0Wi1atmyJw4cPy2Ky9tODBw8iODgYpUqVgqWlJbp27Yrbt2/rzNPQbWvo+3r+/Plo2LAh7OzsYG5uDi8vL2kdX7Vnzx40btwYtra20Gq1qFq1Kj799NMct6GS8GuJgly6dAkAYGdnJ7U9f/4cAQEBaNy4MebPnw8LCwsIIdCpUyfs378fgwYNQu3atbFr1y5MnDgR169fx6JFi2Tz/fPPP7F+/XqMGTMGGo0GK1asQJs2bXD06FHUqFEDAHDs2DEcOnQIvXr1QtmyZZGQkICVK1eiWbNmiImJgYWFhWyeo0aNgq2tLaZPn464uDisXLkSV65ckf4Qvo3Bgwfjp59+Qp8+fdCwYUPs27cP7du314kzNOfExEQ0b94cz58/xyeffAJLS0t88803MDc315nnmjVrEBgYiICAAHz55Zd48uQJVq5cicaNG+PUqVPS4MBu3brh7NmzGD16NNzc3HDr1i3s2bMHV69ezXEA4e7du9GtWzd4eHggNDQUd+/elYqk1w0bNgzff/89goKCMGbMGMTHx2PZsmU4deoUDh48CFNT07xt4P/v8uXL2LJlC7p3747y5csjKSkJX3/9Nfz8/BATE4PSpUvL4r/44gsYGRlhwoQJSE5Oxty5c9G3b18cOXIEANC0aVOsWbNGNs2VK1cwZcoUODg4SG0rV65E9erV0alTJ5iYmOD333/HiBEjkJmZiZEjR8qmv3jxIvr06YNhw4ahX79+mD9/Pjp27IiwsDB8+umnGDFiBAAgNDQUPXr0QFxcHIyMsv/ON3v2bEydOhU9evTA4MGDcfv2bXz11Vdo2rQpTp06BVtbWyn2/v37aNOmDd577z306NEDv/76Kz7++GN4enqibdu2cHd3x8yZMzFt2jQMHToUTZo0AQA0bNgQAKS+q1evHkJDQ5GUlIQlS5bg4MGDOst6XUHss2+7nOnTp2PGjBnw9/fH8OHDpff9sWPHpP0xLS0NAQEBSE1NxejRo+Hk5ITr169j27ZtePDgAWxsbLLNJWubd+jQAb169UL37t2xcuVK9OrVC2vXrsW4cePw4Ycfok+fPpg3bx7ef/99XLt2DVZWVgBeFGlNmjSBtbU1Jk2aBFNTU3z99ddo1qyZVBi9avTo0ShRogRCQkKQkJCAxYsXY9SoUVi/fn2ut21u3tdLlixBp06d0LdvX6SlpWHdunXo3r07tm3bJn3OnT17Fh06dEDNmjUxc+ZMaDQaXLx4EQcPHsxx+ymKoGInPDxcABB79+4Vt2/fFteuXRPr1q0TdnZ2wtzcXPzvf/8TQggRGBgoAIhPPvlENv2WLVsEAPH555/L2t9//32hUqnExYsXpTYAAoA4fvy41HblyhVhZmYmunbtKrU9efJEJ8+oqCgBQPz44486uXt5eYm0tDSpfe7cuQKA2Lp1q9Tm5+cn/Pz8pOfx8fECgAgPD5faQkJCxKu7cXR0tAAgRowYIculT58+AoAICQnJdc7jxo0TAMSRI0ektlu3bgkbGxsBQMTHxwshhHj48KGwtbUVQ4YMkc0zMTFR2NjYSO33798XAMS8efN0lv8mtWvXFs7OzuLBgwdS2+7duwUA4erqKrUdOHBAABBr166VTb9z506d9te3c3ZcXV1FYGCg9PzZs2ciIyNDFhMfHy80Go2YOXOm1LZ//34BQLi7u4vU1FSpfcmSJQKAOHPmjN7lPX36VHh5eYnSpUuLmzdvSu36+i0gIEBUqFBBJ18A4tChQ1Lbrl27BABhbm4urly5IrV//fXXAoDYv3+/1Pb6vpWQkCCMjY3F7NmzZcs5c+aMMDExkbX7+fnp7EepqanCyclJdOvWTWo7duyYzj4thBBpaWnCwcFB1KhRQzx9+lRq37ZtmwAgpk2bprMNXpXf++zbLufWrVtCrVaL1q1by/aZZcuWCQBi9erVQgghTp06JQCIDRs25LhcfbK2+c8//yy1nTt3TgAQRkZG4vDhw1J71n7w6nbv0qWLUKvV4tKlS1LbjRs3hJWVlWjatKnUlvUZ5u/vLzIzM6X2jz76SBgbG0vvzdxsW0Pf10Lo7v9paWmiRo0aokWLFlLbokWLBABx+/btHLeZkvG0VDHm7++PUqVKwcXFBb169YJWq8XmzZtRpkwZWdzw4cNlz3fs2AFjY2OMGTNG1j5+/HgIIfDHH3/I2n19feHl5SU9L1euHDp37oxdu3YhIyMDAGTf1NLT03H37l1UqlQJtra2OHnypE7uQ4cOlR05GD58OExMTLBjx45cbgW5rOlfX7dx48bpxBqa844dO9CgQQPUr19faitVqpR0ii/Lnj178ODBA/Tu3Rt37tyRHsbGxvDx8cH+/ful5arVakRGRubqFNHNmzcRHR2NwMBA2TfYVq1awcPDQxa7YcMG2NjYoFWrVrJcvLy8oNVqpVzehkajkY5yZGRk4O7du9Lhb319HhQUJBtHlXWk4vLly3rnP2LECJw5cwYbN26Ek5OT1P5qvyUnJ+POnTvw8/PD5cuXdU5deHh4wNfXV3qe9e27RYsWKFeunE57drkAL05jZWZmokePHrJt6uTkhMqVK+tsU61Wi379+knP1Wo16tevn+Myshw/fhy3bt3CiBEjYGZmJrW3b98e1apVw/bt23OcPr/32bddzt69e5GWloZx48bJjowNGTIE1tbW0vpk7de7du3K04URWq0WvXr1kp5XrVoVtra2cHd3lx15eb2/MzIysHv3bnTp0gUVKlSQ4pydndGnTx/8/fffSElJkS1r6NChsqPMTZo0QUZGBq5cuQLA8G2bm/c1IN//79+/j+TkZDRp0kT2nss6qrd169ZsTxEqHU9LFWPLly9HlSpVYGJiAkdHR1StWlXnkLqJiYnOoc0rV66gdOnS0uHYLO7u7tLrr6pcubLOsqtUqYInT57g9u3bcHJywtOnTxEaGorw8HBcv35dNnZH37ny1+ep1Wrh7Oz81vfFuHLlCoyMjFCxYkVZe9WqVXViDc35ypUrOoek9c3zwoULAF6OfXqdtbU1gBdFwZdffonx48fD0dERDRo0QIcOHdC/f3/ZH3F96wbo74/XC4oLFy4gOTlZdjrnVbdu3cp2OYbKzMzEkiVLsGLFCsTHx0uFLiA/NZrl1WICAEqUKAEAegu8r7/+GuHh4fj666/RoEED2WsHDx5ESEgIoqKidP4AJicny/5AvL7MrNdcXFz0tudUbF64cAFCCL3bH4DOab6yZcvqnGItUaIE/vnnn2yXkSWrr/Xtt9WqVcPff//9xunzc5992+Vktz5qtRoVKlSQXi9fvjyCg4OxcOFCrF27Fk2aNEGnTp3Qr1+/N56SAvRvcxsbmzf29+3bt/HkyRO929vd3R2ZmZm4du0aqlevLrW/aX82dNvm5n0NANu2bcPnn3+O6OhopKamSu2vrnfPnj3x3XffYfDgwfjkk0/QsmVLvPfee3j//fdzPO2qJCxuirH69etLV0tl59Vv1wVp9OjRCA8Px7hx4+Dr6wsbGxuoVCr06tWryH5zyO+cs6ZZs2aN3iLl1Stvxo0bh44dO2LLli3YtWsXpk6ditDQUOzbtw916tTJ+0q9kouDgwPWrl2r9/VSpUq99TLmzJmDqVOnYuDAgZg1axZKliwJIyMjjBs3Tu/2MzY21jsf8dog9qNHj2Ls2LEYPHgwhg4dKnvt0qVLaNmyJapVq4aFCxfCxcUFarUaO3bswKJFi3SWm90yDc3lVZmZmVCpVPjjjz/0Tq/Vat96Ge9abvbZd2XBggUYMGAAtm7dit27d2PMmDEIDQ3F4cOH9Y5BeVV+9vebvGmeBbFtDxw4gE6dOqFp06ZYsWIFnJ2dYWpqivDwcPz8889SnLm5Of766y/s378f27dvx86dO7F+/Xq0aNECu3fvzjZ3JWFx8x/k6uqKvXv34uHDh7KjN+fOnZNef1XWN5BXnT9/HhYWFtIfyV9//RWBgYFYsGCBFPPs2TOdKyFenWfz5s2l548ePcLNmzfRrl27PK9XVu6ZmZm4dOmS7FtYXFycTqyhObu6uurdBq/PM+tokYODA/z9/d+Ya8WKFTF+/HiMHz8eFy5cQO3atbFgwQL89NNP2a4boL8/9OWyd+9eNGrUSO/gzvzw66+/onnz5li1apWs/cGDB7C3t8/TPG/fvo33338ftWvXxvLly3Ve//3335GamorffvtN9s05P06zvUnFihUhhED58uVRpUqVfJlndoPns/o6Li5O55t/XFyczntU3/QFsc/mdTmvrs+rp33S0tIQHx+vs2xPT094enpiypQpOHToEBo1aoSwsDB8/vnnuc7REKVKlYKFhYXez4lz587ByMhI5+jPmxi6bXPzvt64cSPMzMywa9cuaDQaqT08PFxnWiMjI7Rs2RItW7bEwoULMWfOHHz22WfYv39/nvq6uPlvHJ8imXbt2iEjIwPLli2TtS9atAgqlQpt27aVtUdFRckOjV67dg1bt25F69atpW8AxsbGOt+CvvrqK9mpild98803SE9Pl56vXLkSz58/11l2bmVNv3TpUln74sWLdWINzbldu3Y4fPgwjh49KrXdvn1b56hIQEAArK2tMWfOHNm6vToN8OIy+GfPnsleq1ixIqysrGSHmV/n7OyM2rVr44cffpCdNtuzZw9iYmJksT169EBGRgZmzZqlM5/nz59nW3Tmhr7tt2HDBoMvVX5dRkYGevXqhbS0NGzcuFHvfY6y9rfXTyHq+3DPb++99x6MjY0xY8YMnfUWQuDu3bu5nmfWPade7w9vb284ODggLCxMtk/88ccfiI2N1Xv136vye5992+X4+/tDrVZj6dKlsm23atUqJCcnS+uTkpKC58+fy6b19PSEkZFRju+Nt2VsbIzWrVtj69atslPjSUlJ+Pnnn9G4ceM3nqJ7naHbNjfva2NjY6hUKtlnVEJCArZs2SKLu3fvns7yateuDQAFuh2LEh65+Q/q2LEjmjdvjs8++wwJCQmoVasWdu/eja1bt2LcuHE641Vq1KiBgIAA2aXgADBjxgwppkOHDlizZg1sbGzg4eGBqKgo7N27V+/YC+DFN7aWLVtKl9+uWLECjRs3RqdOnd5q3WrXro3evXtjxYoVSE5ORsOGDRERESG7n0puc540aRLWrFmDNm3aYOzYsdLlrq6urrLxE9bW1li5ciU++OAD1K1bF7169UKpUqVw9epVbN++HY0aNcKyZctw/vx5ad09PDxgYmKCzZs3IykpSTYYUp/Q0FC0b98ejRs3xsCBA3Hv3j189dVXqF69Oh49eiTF+fn5YdiwYQgNDUV0dDRat24NU1NTXLhwARs2bMCSJUvw/vvvv9W27tChA2bOnImgoCA0bNgQZ86cwdq1a2XfzHMjLCwM+/btw4cffqhzJMbR0RGtWrVC69atoVar0bFjRwwbNgyPHj3Ct99+CwcHB9y8efOt1udNKlasiM8//xyTJ09GQkICunTpAisrK8THx2Pz5s0YOnQoJkyYkOt52traIiwsDFZWVrC0tISPjw/Kly+PL7/8EkFBQfDz80Pv3r2lS8Hd3Nzw0Ucf5Tjf/N5n33Y5pUqVwuTJkzFjxgy0adMGnTp1kt739erVkwZe79u3D6NGjUL37t1RpUoVPH/+HGvWrIGxsTG6deuWq22bW59//rl0b5gRI0bAxMQEX3/9NVJTU2X3JzJUbratoe/r9u3bY+HChWjTpg369OmDW7duYfny5ahUqZJse8+cORN//fUX2rdvD1dXV9y6dQsrVqxA2bJl0bhx47ffWMXBO78+i95a1qWIx44dyzEuMDBQWFpa6n3t4cOH4qOPPhKlS5cWpqamonLlymLevHmySxuFeHEp+MiRI8VPP/0kKleuLDQajahTp47sklkhXlzeHBQUJOzt7YVWqxUBAQHi3LlzOpcPZ+X+559/iqFDh4oSJUoIrVYr+vbtK+7evSubZ14uBRfixSXEY8aMEXZ2dsLS0lJ07NhRXLt2TedScENzFkKIf/75R/j5+QkzMzNRpkwZMWvWLLFq1SrZ5a5Z9u/fLwICAoSNjY0wMzMTFStWFAMGDJAup79z544YOXKkqFatmrC0tBQ2NjbCx8dH/PLLL3r76nUbN24U7u7uQqPRCA8PD7Fp0yYRGBioc8moEEJ88803wsvLS5ibmwsrKyvh6ekpJk2aJG7cuJHtds6OvkvBx48fL5ydnYW5ublo1KiRiIqK0plf1qXgr1/e+3p/ZvWlvser8/vtt99EzZo1hZmZmXBzcxNffvmlWL16tU5fuLq6ivbt2+usR9Y+rS+XVy/P17dvCfFi+zdu3FhYWloKS0tLUa1aNTFy5EgRFxcnxfj5+Ynq1avrTKuvn7Zu3So8PDyEiYmJzv69fv16UadOHaHRaETJkiVF3759pVs9vEl+7rP5tZxly5aJatWqCVNTU+Ho6CiGDx8u7t+/L71++fJlMXDgQFGxYkVhZmYmSpYsKZo3by727t37xjyy2+a52Q9OnjwpAgIChFarFRYWFqJ58+ayWwkIkf3nb9Z+/vpno6Hb1tD39apVq6TP4mrVqonw8HCdfTUiIkJ07txZlC5dWqjValG6dGnRu3dvcf78+Wy3n9KohChCo9uIiIiI3hLH3BAREZGisLghIiIiRWFxQ0RERIpSqMXNX3/9hY4dO6J06dJQqVQ6l7PpExkZibp160Kj0aBSpUqyX9AlIiIiKtTi5vHjx6hVq5bem3XpEx8fj/bt26N58+aIjo7GuHHjMHjwYOzatauAMyUiIqLioshcLaVSqbB582Z06dIl25iPP/4Y27dvx7///iu19erVCw8ePMDOnTvfQZZERERU1BWrm/hFRUXp3DY6ICBA7y8+Z0lNTZXdkTEzMxP37t2DnZ1dtrc+JyIioqJFCIGHDx+idOnSb/zNxGJV3CQmJsLR0VHW5ujoiJSUFDx9+lTvb+iEhobK7qRLRERExde1a9fe+COqxaq4yYvJkycjODhYep6cnIxy5crh2rVruf6tECIiIiocKSkpcHFxkf3gc3aKVXHj5OSEpKQkWVtSUhKsra2z/eVjjUYj+/XULNbW1ixuiIiIihlDhpQUq/vc+Pr6IiIiQta2Z88e+Pr6FlJGREREVNQUanHz6NEjREdHIzo6GsCLS72jo6Nx9epVAC9OKfXv31+K//DDD3H58mVMmjQJ586dw4oVK/DLL7+88RdyiYiI6L+jUIub48ePo06dOqhTpw4AIDg4GHXq1MG0adMAADdv3pQKHQAoX748tm/fjj179qBWrVpYsGABvvvuOwQEBBRK/kRERFT0FJn73LwrKSkpsLGxQXJyMsfcEBERFRO5+ftdrMbcEBEREb0JixsiIiJSFBY3REREpCgsboiIiEhRWNwQERGRorC4ISIiIkVhcUNERESKwuKGiIiIFIXFDRERESkKixsiIiJSFBY3REREpCgsboiIiEhRWNwQERGRorC4ISIiIkVhcUNERESKwuKGiIiIFIXFDRERESkKixsiIiJSFBY3REREpCgsboiIiEhRWNwQERH9B509exbdunWDm5sbVCoVFi9erDdu+fLlcHNzg5mZGXx8fHD06FHZ68+ePcPIkSNhZ2cHrVaLbt26ISkpSe+87t69i7Jly0KlUuHBgwf5vEYvsbghIiL6D3ry5AkqVKiAL774Ak5OTnpj1q9fj+DgYISEhODkyZOoVasWAgICcOvWLSnmo48+wu+//44NGzbgzz//xI0bN/Dee+/pnd+gQYNQs2bNAlmfV7G4ISIiKmTNmjXDmDFjMGnSJJQsWRJOTk6YPn16gS6zXr16mDdvHnr16gWNRqM3ZuHChRgyZAiCgoLg4eGBsLAwWFhYYPXq1QCA5ORkrFq1CgsXLkSLFi3g5eWF8PBwHDp0CIcPH5bNa+XKlXjw4AEmTJhQoOsFsLghIiIqEn744QdYWlriyJEjmDt3LmbOnIk9e/ZkG7927VpotdocHwcOHMhzPmlpaThx4gT8/f2lNiMjI/j7+yMqKgoAcOLECaSnp8tiqlWrhnLlykkxABATE4OZM2fixx9/hJFRwZceJgW+BCIiInqjmjVrIiQkBABQuXJlLFu2DBEREWjVqpXe+E6dOsHHxyfHeZYpUybP+dy5cwcZGRlwdHSUtTs6OuLcuXMAgMTERKjVatja2urEJCYmAgBSU1PRu3dvzJs3D+XKlcPly5fznJOhWNwQEREVAa+PRXF2dpaNbXmdlZUVrKysCjqttzZ58mS4u7ujX79+72yZPC1FRERUBJiamsqeq1QqZGZmZhtf0Kel7O3tYWxsrHPlU1JSkjQA2cnJCWlpaTpXPr0as2/fPmzYsAEmJiYwMTFBy5YtpflnHanKbzxyQ0REVAwV9GkptVoNLy8vREREoEuXLgCAzMxMREREYNSoUQAALy8vmJqaIiIiAt26dQMAxMXF4erVq/D19QUAbNy4EU+fPpXme+zYMQwcOBAHDhxAxYoV85xfTljcEBERFUNve1oqLS0NMTEx0v+vX7+O6OhoaLVaVKpUCQAQHByMwMBAeHt7o379+li8eDEeP36MoKAgAICNjQ0GDRqE4OBglCxZEtbW1hg9ejR8fX3RoEEDANApYO7cuQMAcHd31xmrk19Y3BAREf0H3bhxA3Xq1JGez58/H/Pnz4efnx8iIyMBAD179sTt27cxbdo0JCYmonbt2ti5c6dskPGiRYtgZGSEbt26ITU1FQEBAVixYsW7Xh0ZlRBCFGoG71hKSgpsbGyQnJwMa2vrwk6HiIiIDJCbv98cUExERESKwuKGiIiIFIXFDRERESkKixsiIiJSFBY3REREpCgsboiIiEhRWNwQERGRorC4ISIiIkVhcUNERESKwuKGiIiIFIXFDRERESkKixsiIiJSFBY3REREpCgsboiIiEhRWNwQERGRorC4ISIiIkVhcUNERESKwuKGiIiIFIXFDRERESkKixsiIiJSFBY3REREpCgsboiIiEhRWNwQERGRorC4ISIiIkVhcUNERESKwuKGiIiIFIXFDRERESkKixsiIiJSFBY3REREpCgsboiIiEhRWNwQERGRorC4ISIiIkUp9OJm+fLlcHNzg5mZGXx8fHD06NEc4xcvXoyqVavC3NwcLi4u+Oijj/Ds2bN3lC0REREVdYVa3Kxfvx7BwcEICQnByZMnUatWLQQEBODWrVt643/++Wd88sknCAkJQWxsLFatWoX169fj008/fceZExERUVFVqMXNwoULMWTIEAQFBcHDwwNhYWGwsLDA6tWr9cYfOnQIjRo1Qp8+feDm5obWrVujd+/ebzzaQ0RERP8dhVbcpKWl4cSJE/D393+ZjJER/P39ERUVpXeahg0b4sSJE1Ixc/nyZezYsQPt2rXLdjmpqalISUmRPYiIiEi5TAprwXfu3EFGRgYcHR1l7Y6Ojjh37pzeafr06YM7d+6gcePGEELg+fPn+PDDD3M8LRUaGooZM2bka+5ERERUdBX6gOLciIyMxJw5c7BixQqcPHkSmzZtwvbt2zFr1qxsp5k8eTKSk5Olx7Vr195hxkRERPSuFdqRG3t7exgbGyMpKUnWnpSUBCcnJ73TTJ06FR988AEGDx4MAPD09MTjx48xdOhQfPbZZzAy0q3VNBoNNBpN/q8AERERFUmFduRGrVbDy8sLERERUltmZiYiIiLg6+urd5onT57oFDDGxsYAACFEwSVLRERExUahHbkBgODgYAQGBsLb2xv169fH4sWL8fjxYwQFBQEA+vfvjzJlyiA0NBQA0LFjRyxcuBB16tSBj48PLl68iKlTp6Jjx45SkUNERET/bYVa3PTs2RO3b9/GtGnTkJiYiNq1a2Pnzp3SIOOrV6/KjtRMmTIFKpUKU6ZMwfXr11GqVCl07NgRs2fPLqxVICIioiJGJf5j53NSUlJgY2OD5ORkWFtbF3Y6REREZIDc/P0uVldLEREREb0JixsiIiJSFBY3REREpCgsboiIiEhRWNwQERGRorC4ISIiIkVhcUNERESKwuKGiIiIFIXFDRERESkKixsiIiJSFBY3REREpCgsboiIiEhRWNwQERGRorC4ISIiIkVhcUNERESKwuKGiIiIFIXFDRERESkKixsiIiJSFBY3REREpCgsboiIiEhRWNwQERGRorC4ISIiIkVhcUNERESKwuKGiIiIFIXFDRERESkKixsiIiJSFBY3REREpCgsboiIiEhRWNwQERGRorC4ISIiIkVhcUNERESKwuKGiIiIFIXFDRERESkKixsiIiJSFBY3REREpCgsboiIiEhRWNwQERGRorC4ISIiIkVhcUNERESKwuKGiIiIFIXFDRERESkKixsiIiJSFBY3REREpCgsboiIiEhRWNwQERGRorC4ISIiIkVhcUNERESKwuKGiIiIFIXFDRERESkKixsiIiJSFBY3REREpCgsboiIiEhRWNwQERGRorC4ISIiIkVhcUNERESKwuKGiIiIFIXFDRERESkKixsiIiJSFBY3REREpCgsboiIiEhRWNwQERGRorC4ISIiIkVhcUNERESKUujFzfLly+Hm5gYzMzP4+Pjg6NGjOcY/ePAAI0eOhLOzMzQaDapUqYIdO3a8o2yJiIioqDMxNPCff/4xeKY1a9Y0KG79+vUIDg5GWFgYfHx8sHjxYgQEBCAuLg4ODg468WlpaWjVqhUcHBzw66+/okyZMrhy5QpsbW0Nzo2IiIiUTSWEEIYEGhkZQaVSQQgBlUqVY2xGRoZBC/fx8UG9evWwbNkyAEBmZiZcXFwwevRofPLJJzrxYWFhmDdvHs6dOwdTU1ODlvG6lJQU2NjYIDk5GdbW1nmaBxEREb1bufn7bfBpqfj4eFy+fBnx8fHYuHEjypcvjxUrVuDUqVM4deoUVqxYgYoVK2Ljxo0GzS8tLQ0nTpyAv7//y2SMjODv74+oqCi90/z222/w9fXFyJEj4ejoiBo1amDOnDk5FlOpqalISUmRPYiIiEi5DD4t5erqKv2/e/fuWLp0Kdq1aye11axZEy4uLpg6dSq6dOnyxvnduXMHGRkZcHR0lLU7Ojri3Llzeqe5fPky9u3bh759+2LHjh24ePEiRowYgfT0dISEhOidJjQ0FDNmzDBgDYmIiEgJ8jSg+MyZMyhfvrxOe/ny5RETE/PWSWUnMzMTDg4O+Oabb+Dl5YWePXvis88+Q1hYWLbTTJ48GcnJydLj2rVrBZYfERERFb48FTfu7u4IDQ1FWlqa1JaWlobQ0FC4u7sbNA97e3sYGxsjKSlJ1p6UlAQnJye90zg7O6NKlSowNjaW5ZKYmCjL5VUajQbW1tayBxERESlXnoqbsLAw7Nq1C2XLloW/vz/8/f1RtmxZ7Nq1K8ejKK9Sq9Xw8vJCRESE1JaZmYmIiAj4+vrqnaZRo0a4ePEiMjMzpbbz58/D2dkZarU6L6tCRERECpOn4qZ+/fq4fPkyPv/8c9SsWRM1a9bE7NmzcfnyZdSvX9/g+QQHB+Pbb7/FDz/8gNjYWAwfPhyPHz9GUFAQAKB///6YPHmyFD98+HDcu3cPY8eOxfnz57F9+3bMmTMHI0eOzMtqEBERkQIZPKD4dZaWlhg6dOhbLbxnz564ffs2pk2bhsTERNSuXRs7d+6UBhlfvXoVRkYv6y8XFxfs2rULH330EWrWrIkyZcpg7Nix+Pjjj98qDyIiIlIOg+9zo09MTAyuXr2qM96lU6dOb51YQeF9boiIiIqf3Pz9ztORm8uXL6Nr1644c+aMdGM/ANLN/Qy9iR8RERFRfsvTmJuxY8eifPnyuHXrFiwsLHD27Fn89ddf8Pb2RmRkZD6nSERERGS4PB25iYqKwr59+2Bvbw8jIyMYGRmhcePGCA0NxZgxY3Dq1Kn8zpOIiIjIIHk6cpORkQErKysAL+5Xc+PGDQAv7mIcFxeXf9kRERER5VKejtzUqFEDp0+fRvny5eHj44O5c+dCrVbjm2++QYUKFfI7RyIiIiKD5am4mTJlCh4/fgwAmDlzJjp06IAmTZrAzs4O69evz9cEiYiIiHLjrS4Ff9W9e/dQokQJ6YqpooqXghMRERU/BX4puD4lS5bMr1kRERER5ZnBxc17771n8Ew3bdqUp2SIiIiI3pbBV0vZ2NhID2tra0REROD48ePS6ydOnEBERARsbGwKJFEiIiIiQxh85CY8PFz6/8cff4wePXogLCwMxsbGAF5cHj5ixAiOYyEiIqJClacBxaVKlcLff/+NqlWrytrj4uLQsGFD3L17N98SzG8cUExERFT85Obvd55u4vf8+XOcO3dOp/3cuXPIzMzMyyyJiIiI8kWerpYKCgrCoEGDcOnSJdSvXx8AcOTIEXzxxRcICgrK1wSJiIiIciNPxc38+fPh5OSEBQsW4ObNmwAAZ2dnTJw4EePHj8/XBImIiIhy461v4peSkgIAxWb8CsfcEBERFT/v9CZ+LBCIiIioKDG4uKlbty4iIiJQokQJ1KlTJ8efWTh58mS+JEdERESUWwYXN507d4ZGowEAdOnSpaDyISIiInor+fbDmcUFx9wQEREVPwV+nxsiIiKiosrg01IlSpTIcZzNq+7du5fnhIiIiIjehsHFzeLFiwswDSIiIqL8YXBxExgYWJB5EBEREeULg4ublJQUaQBP1o37ssOBukRERFRYcjXm5ubNm3BwcICtra3e8TdCCKhUKmRkZORrkkRERESGMri42bdvH0qWLAkA2L9/f4ElRERERPQ2eJ8bIiIiKvLeyW9L3b9/H6tWrUJsbCwAwMPDA0FBQdLRHSIiIqLCkKeb+P31119wc3PD0qVLcf/+fdy/fx9Lly5F+fLl8ddff+V3jkREREQGy9NpKU9PT/j6+mLlypUwNjYGAGRkZGDEiBE4dOgQzpw5k++J5heeliIiIip+CvznFy5evIjx48dLhQ0AGBsbIzg4GBcvXszLLImIiIjyRZ6Km7p160pjbV4VGxuLWrVqvXVSRERERHll8IDif/75R/r/mDFjMHbsWFy8eBENGjQAABw+fBjLly/HF198kf9ZEhERERnI4DE3RkZGUKlUeFN4Ub+JH8fcEBERFT8Fcil4fHz8WydGREREVNAMLm5cXV0LMg8iIiKifJHnm/gBQExMDK5evYq0tDRZe6dOnd4qKSIiIqK8ylNxc/nyZXTt2hVnzpyRjcPJ+jHNojzmhoiIiJQtT5eCjx07FuXLl8etW7dgYWGBs2fP4q+//oK3tzciIyPzOUUiIiIiw+XpyE1UVBT27dsHe3t7GBkZwcjICI0bN0ZoaCjGjBmDU6dO5XeeRERERAbJ05GbjIwMWFlZAQDs7e1x48YNAC8GHcfFxeVfdkRERES5lKcjNzVq1MDp06dRvnx5+Pj4YO7cuVCr1fjmm29QoUKF/M6RiIiIyGB5Km6mTJmCx48fAwBmzpyJDh06oEmTJrCzs8P69evzNUEiIiKi3MjTr4Lrc+/ePZQoUUK6Yqqo4h2KiYiIip8CuUNxdq5duwYAcHFxedtZEREREb21PA0ofv78OaZOnQobGxu4ubnBzc0NNjY2mDJlCtLT0/M7RyIiIiKD5enIzejRo7Fp0ybMnTsXvr6+AF5cHj59+nTcvXsXK1euzNckiYiIiAyVpzE3NjY2WLduHdq2bStr37FjB3r37o3k5OR8SzC/ccwNERFR8ZObv995Oi2l0Wjg5uam016+fHmo1eq8zJKIiIgoX+SpuBk1ahRmzZqF1NRUqS01NRWzZ8/GqFGj8i05IiIiotwyeMzNe++9J3u+d+9elC1bFrVq1QIAnD59GmlpaWjZsmX+ZkhERESUCwYXNzY2NrLn3bp1kz3npeBERERUFBhc3ISHhxdkHkRERET54q1u4nf79m3phzKrVq2KUqVK5UtSRERERHmVpwHFjx8/xsCBA+Hs7IymTZuiadOmKF26NAYNGoQnT57kd45EREREBstTcRMcHIw///wTv//+Ox48eIAHDx5g69at+PPPPzF+/Pj8zpGIiIjIYHm6iZ+9vT1+/fVXNGvWTNa+f/9+9OjRA7dv386v/PIdb+JHRERU/BT4TfyePHkCR0dHnXYHBweeliIiIqJClafixtfXFyEhIXj27JnU9vTpU8yYMUP6rSkiIiKiwpCnq6UWL16MNm3a6NzEz8zMDLt27crXBImIiIhyI09jboAXp6bWrl2Lc+fOAQDc3d3Rt29fmJub52uC+Y1jboiIiIqf3Pz9zvWRm/T0dFSrVg3btm3DkCFD8pwkERERUUHI9ZgbU1NT2Vib/LB8+XK4ubnBzMwMPj4+OHr0qEHTrVu3DiqVCl26dMnXfIiIiKj4ytOA4pEjR+LLL7/E8+fP3zqB9evXIzg4GCEhITh58iRq1aqFgIAA3Lp1K8fpEhISMGHCBDRp0uStcyAiIiLlyNOYm65duyIiIgJarRaenp6wtLSUvb5p0yaD5+Xj44N69eph2bJlAIDMzEy4uLhg9OjR+OSTT/ROk5GRgaZNm2LgwIE4cOAAHjx4gC1bthi0PI65ISIiKn4KdMwNANja2ur8KnhepKWl4cSJE5g8ebLUZmRkBH9/f0RFRWU73cyZM+Hg4IBBgwbhwIEDOS4jNTUVqamp0vOUlJS3zpuIiIiKrlwVN5mZmZg3bx7Onz+PtLQ0tGjRAtOnT8/zFVJ37txBRkaGzg0BHR0dpauwXvf3339j1apViI6ONmgZoaGhmDFjRp7yIyIiouInV2NuZs+ejU8//RRarRZlypTB0qVLMXLkyILKTcfDhw/xwQcf4Ntvv4W9vb1B00yePBnJycnS49q1awWcJRERERWmXB25+fHHH7FixQoMGzYMALB37160b98e3333HYyMcj822d7eHsbGxkhKSpK1JyUlwcnJSSf+0qVLSEhIQMeOHaW2zMzMFytiYoK4uDhUrFhRNo1Go4FGo8l1bkRERFQ85aoiuXr1Ktq1ayc99/f3h0qlwo0bN/K0cLVaDS8vL0REREhtmZmZiIiI0PszDtWqVcOZM2cQHR0tPTp16oTmzZsjOjoaLi4uecqDiIiIlCNXR26eP38OMzMzWZupqSnS09PznEBwcDACAwPh7e2N+vXrY/HixXj8+DGCgoIAAP3790eZMmUQGhoKMzMz1KhRQza9ra0tAOi0ExER0X9TroobIQQGDBggO83z7NkzfPjhh7LLwXNzKXjPnj1x+/ZtTJs2DYmJiahduzZ27twpDTK+evVqnk55ERER0X9Tru5zk3U05U3Cw8PznFBB431uiIiIip8Cu89NUS5aiIiIiIA8/vwCERERUVHF4oaIiIgUhcUNERERKQqLGyIiIlIUFjdERESkKCxuiIiISFFY3BAREZGisLghIiIiRWFxQ0RERIrC4oaIiIgUhcUNERERKQqLGyIiIlIUFjdERESkKCxuiIiISFFY3BAREZGisLghIiIiRWFxQ0RERIrC4oaIiIgUhcUNERERKQqLGyIiIlIUFjdERESkKCxuiIiISFFY3BAREZGisLghIiIiRWFxQ0RERIrC4oaIiIgUhcUNERERKQqLGyIiIlIUFjdERESkKCxuiIiISFFY3BAREZGisLghIiIiRWFxQ0RERIrC4oaIiIgUhcUNERERKQqLGyIiIlIUFjdERESkKCxuiIiISFFY3BAREZGisLghIiIiRWFxQ0RERIrC4oaIiIgUpfCKm7/+Ajp2BEqXBlQqYMuW7GObNwe++07edvcuULbsi2kfPCjITImIiKgYMSm0JT9+DNSqBQwcCLz3XvZx9+4BBw8C69bJ2wcNAmrWBK5fL9g8c8ntk+2FncJ/VsIX7Qs7BSIiKgIKr7hp2/bF4022bwfq1gUcHV+2rVz54mjNtGnAH38UWIpERERU/BRecWOo334DOnd++TwmBpg5EzhyBLh8Oe/zffwYMDbWbTc2BszM5HHZMTICzM1lseZpz/SGZqpUSDXVSM/N0p9BJfTPVqiAZ6ZmeYrVpKfCSGQTDOCpOo+xz9NglJmZP7GmmhenEwGon6fDODMjX2KRmfmiTwAgLQ1IT88+1tzc8Fgzs5f7Sm5i09NfxGdHowFMTHIf+/w5kJqafaxaDZia5j42IwN4pn//BfAiTq3OfWxmJvD0af7Empi82BYAIATw5En+xObmff+WnxEGxz558iJvfVQqwMIib7FPn77YztmxtMxb7LNnL/aL/Ii1sJDe90hNfbEf50dsbt73/IzQjS0KnxGGEkUBIMTmzbrtz54JodUK8e+/L5/XrCnEmjUvnu/f/2La+/cNXlRycrIAIJJffBToPtq1k09gYaE/DhDCz08ea2+fbWy0U2Xh+vE26XHN2iHb2Di7crLYOLty2cZes3aQxUY7Vc429o65tSw2yqVGtrGPTTWy2IgK3tlvB0AWu61qoxxjq330qxS7oUbLHGPrjF4rxf5Qp32OsSI+/mVfTJiQc2zWPiWEECEhOccePfoydu7cnGP3738Zu2xZzrHbtr2MDQ/POfaXX17G/vJLzrHh4S9jt23LOXbZspexWe+n7B5z576MPXo059iQkJex//6bc+yECS9j4+Nzjh0x4mXsrVs5xwYGvox99Cjn2Pffl7+Xc4otoM8I4e0tj3V1zT7Ww0Me6+GRfayrqzzWO4f3sr29PNbPL/tYCwt5bLt2OW+3V73/fs6xjx69jA0MzDn21q2XsSNG5BzLz4gXj2L6GSH9/U5OFm9StK+W2rcPcHAAqld/8XzyZMDdHejXr3DzIiIioiJLJYQQhZ0EVCpg82agSxd5+/DhLw7hLVr04nnt2sCZMy8PQQrx4nCWsTHw2WfAjBlvXFRKSgpsbGyQfOMGrK2tdQPe8pCz+9SdekN5WuqV2AI6LRU7vysPOQPF+5BzIZyWcp+6E5lGRkg1eXnYO7vTywByF/va+z43sf+Fz4jYWW30B+fTaanXP4+fmaohVC/e96YZ6TDJ4dRYbmJTTUyRaWSc61iTjOcwzch+3dJMTJGRh1jjzAyon2f/OZVubILnxia5jjXKzIAmh9jnxsZIN37xeZIwu02+f0ZIf7+Tk/X//X5F0R1zIwTw++/ATz+9bNu4Ub4Bjh17cbXVgQNAxYq5m7+lpfwccE5xuZjnq2/gnLz6YZOfsa9+OOZrrInh5ztzE5tmYgrANH9ijV45EKlWG36OtqBiTU1fFg75GWti8rLQyc9YY2PD9/fcxBoZFUysSpUvsfres4a+jwsy9j/xGWFI/2k0L4vUXMbmtL3TjU2lP8RvUlCxz18pHPIzNsPIGE/VesaUvmVsZi5iC+wzwkCFV9w8egRcvPjyeXw8EB0NlCwJlCsHnDjx4ptW48YvY14vYO7cefGvuztga1vQGRMREVExUHjFzfHjL27OlyU4+MW/gYHA998DW7cC7doZ/q2TqADx/kWFh/cvIqLcKrzKoVmzF6eesrN1KzBlytvNg4iIiP5ziubVUmlpQLduht3kj4iIiOgVRfOcj1oNhIQUdhZERERUDBXNIzdEREREecTihoiIiBSFxQ0REREpCosbIiIiUhQWN0RERKQoLG6IiIhIUVjcEBERkaIUieJm+fLlcHNzg5mZGXx8fHD06NFsY7/99ls0adIEJUqUQIkSJeDv759jPBEREf23FHpxs379egQHByMkJAQnT55ErVq1EBAQgFu3bumNj4yMRO/evbF//35ERUXBxcUFrVu3xvXr199x5kRERFQUFXpxs3DhQgwZMgRBQUHw8PBAWFgYLCwssHr1ar3xa9euxYgRI1C7dm1Uq1YN3333HTIzMxEREfGOMyciIqKiqFCLm7S0NJw4cQL+/v5Sm5GREfz9/REVFWXQPJ48eYL09HSULFlS7+upqalISUmRPYiIiEi5CrW4uXPnDjIyMuDo6Chrd3R0RGJiokHz+Pjjj1G6dGlZgfSq0NBQ2NjYSA8XF5e3zpuIiIiKrkI/LfU2vvjiC6xbtw6bN2+GmZmZ3pjJkycjOTlZely7du0dZ0lERETvUqH+Kri9vT2MjY2RlJQka09KSoKTk1OO086fPx9ffPEF9u7di5o1a2Ybp9FooNFo8iVfIiIiKvoK9ciNWq2Gl5eXbDBw1uBgX1/fbKebO3cuZs2ahZ07d8Lb2/tdpEpERETFRKEeuQGA4OBgBAYGwtvbG/Xr18fixYvx+PFjBAUFAQD69++PMmXKIDQ0FADw5ZdfYtq0afj555/h5uYmjc3RarXQarWFth5ERERUNBR6cdOzZ0/cvn0b06ZNQ2JiImrXro2dO3dKg4yvXr0KI6OXB5hWrlyJtLQ0vP/++7L5hISEYPr06e8ydSIiIiqCCr24AYBRo0Zh1KhRel+LjIyUPU9ISCj4hIiIiKjYKtZXSxERERG9jsUNERERKQqLGyIiIlIUFjdERESkKCxuiIiISFFY3BAREZGisLghIiIiRWFxQ0RERIrC4oaIiIgUhcUNERERKQqLGyIiIlIUFjdERESkKCxuiIiISFFY3BAREZGisLghIiIiRWFxQ0RERIrC4oaIiIgUhcUNERERKQqLGyIiIlIUFjdERESkKCxuiIiISFFY3BAREZGisLghIiIiRWFxQ0RERIrC4oaIiIgUhcUNERERKQqLGyIiIlIUFjdERESkKCxuiIiISFFY3BAREZGisLghIiIiRWFxQ0RERIrC4oaIiIgUhcUNERERKQqLGyIiIlIUFjdERESkKCxuiIiISFFY3BAREZGisLghIiIiRWFxQ0RERIrC4oaIiIgUhcUNERERKQqLGyIiIlIUFjdERESkKCxuiIiISFFY3BAREZGisLghIiIiRWFxQ0RERIrC4oaIiIgUhcUNERERKQqLGyIiIlIUFjdERESkKCxuiIiISFFY3BAREZGisLghIiIiRWFxQ0RERIrC4oaIiIgUhcUNERERKQqLGyIiIlIUFjdERESkKCxuiIiISFFY3BAREZGiFIniZvny5XBzc4OZmRl8fHxw9OjRHOM3bNiAatWqwczMDJ6entixY8c7ypSIiIiKukIvbtavX4/g4GCEhITg5MmTqFWrFgICAnDr1i298YcOHULv3r0xaNAgnDp1Cl26dEGXLl3w77//vuPMiYiIqCgq9OJm4cKFGDJkCIKCguDh4YGwsDBYWFhg9erVeuOXLFmCNm3aYOLEiXB3d8esWbNQt25dLFu27B1nTkREREVRoRY3aWlpOHHiBPz9/aU2IyMj+Pv7IyoqSu80UVFRsngACAgIyDaeiIiI/ltMCnPhd+7cQUZGBhwdHWXtjo6OOHfunN5pEhMT9cYnJibqjU9NTUVqaqr0PDk5GQCQkpLyNqlnKzP1SYHMl96soPoUYL8WpoLsV4B9W5jYt8pVEH2bNU8hxBtjC7W4eRdCQ0MxY8YMnXYXF5dCyIYKks3iws6ACgL7VbnYt8pVkH378OFD2NjY5BhTqMWNvb09jI2NkZSUJGtPSkqCk5OT3mmcnJxyFT958mQEBwdLzzMzM3Hv3j3Y2dlBpVK95RooR0pKClxcXHDt2jVYW1sXdjqUj9i3ysW+VSb2q35CCDx8+BClS5d+Y2yhFjdqtRpeXl6IiIhAly5dALwoPiIiIjBq1Ci90/j6+iIiIgLjxo2T2vbs2QNfX1+98RqNBhqNRtZma2ubH+krkrW1Nd9MCsW+VS72rTKxX3W96YhNlkI/LRUcHIzAwEB4e3ujfv36WLx4MR4/foygoCAAQP/+/VGmTBmEhoYCAMaOHQs/Pz8sWLAA7du3x7p163D8+HF88803hbkaREREVEQUenHTs2dP3L59G9OmTUNiYiJq166NnTt3SoOGr169CiOjlxd1NWzYED///DOmTJmCTz/9FJUrV8aWLVtQo0aNwloFIiIiKkIKvbgBgFGjRmV7GioyMlKnrXv37ujevXsBZ/XfotFoEBISonMKj4o/9q1ysW+Vif369lTCkGuqiIiIiIqJQr9DMREREVF+YnFDREREisLihoiIiBSFxc07dPfuXTg4OCAhIaGwUylW0tLS4ObmhuPHjxd2Knr9l/t1+vTpqF27tvR8wIAB0j2rDBETE4OyZcvi8ePH+Z9cPiiovlWpVNiyZQsAICEhASqVCtHR0fm6jMJWlPv2v96vzZo1k90rzs3NDYsXLzZ4+rCwMHTs2DH/E8tHLG7eodmzZ6Nz585wc3OTtW/cuBHNmjWDjY0NtFotatasiZkzZ+LevXuFk6geiYmJGD16NCpUqACNRgMXFxd07NgRERERBb5stVqNCRMm4OOPPy7wZeVFce3X27dvY/jw4ShXrhw0Gg2cnJwQEBCAgwcPvrMcPDw80KBBAyxcuPCdLTM39PXt5s2b0aBBA9jY2MDKygrVq1eX/aEoSk6dOoXu3bvD0dERZmZmqFy5MoYMGYLz588X+LKLct8W5349ffo0OnXqBAcHB5iZmcHNzQ09e/bErVu33lkOAwcOxMmTJ3HgwIF3tszcYnHzjjx58gSrVq3CoEGDZO2fffYZevbsiXr16uGPP/7Av//+iwULFuD06dNYs2ZNnpeXlpb2tilLEhIS4OXlhX379mHevHk4c+YMdu7ciebNm2PkyJF5nm9GRgYyMzMNiu3bty/+/vtvnD17Ns/LKwjFuV+7deuGU6dO4YcffsD58+fx22+/oVmzZrh7926+LcMQQUFBWLlyJZ4/f/5Ol/sm+vo2IiICPXv2RLdu3XD06FGcOHECs2fPRnp6eiFmqt+2bdvQoEEDpKamYu3atYiNjcVPP/0EGxsbTJ06Nc/zzc0+WBT7tjj36+3bt9GyZUuULFkSu3btQmxsLMLDw1G6dOl3eoRMrVajT58+WLp06TtbZq4Jeic2bNggSpUqJWs7cuSIACAWL16sd5r79+8LIYS4ePGi6NSpk3BwcBCWlpbC29tb7NmzRxbr6uoqZs6cKT744ANhZWUlAgMDhRBCTJo0SVSuXFmYm5uL8uXLiylTpoi0tLRc5d62bVtRpkwZ8ejRo2xzFEKIBQsWiBo1aggLCwtRtmxZMXz4cPHw4UPp9fDwcGFjYyO2bt0q3N3dhbGxsYiPjxdHjx4V/v7+ws7OTlhbW4umTZuKEydO6CyrefPmYsqUKbnKvaAV1369f/++ACAiIyPfGDdo0CBhb28vrKysRPPmzUV0dLT0ekhIiKhVq5b0PDAwUHTu3Fl6/uzZMzF69GhRqlQpodFoRKNGjcTRo0dly0hNTRUajUbs3bvX4PzfBX19O3bsWNGsWbM3TrtlyxZRp04dodFoRPny5cX06dNFenq69DoAsXnzZiGEEPHx8QKAOHXqlPR6ZGSkqFevnlCr1cLJyUl8/PHHsunf5PHjx8Le3l506dJF7+tZ++Dz58/FwIEDhZubmzAzMxNVqlTR2W+z+vTzzz8Xzs7Ows3NTQghxI8//ii8vLyEVqsVjo6Oonfv3iIpKUk2bVHs2+Lcr5s3bxYmJiZvnObMmTOiTZs2wtLSUjg4OIh+/fqJ27dvS6/7+fmJsWPHSs9dXV3FokWLpOdXrlwRnTp1EpaWlsLKykp0795dJCYmypbx559/CrVaLZ48eWJw/u8Sj9y8IwcOHICXl5esbe3atdBqtRgxYoTeabJ+A+vRo0do164dIiIicOrUKbRp0wYdO3bE1atXZfHz589HrVq1cOrUKembmZWVFb7//nvExMRgyZIl+Pbbb7Fo0SKD87537x527tyJkSNHwtLSMtscAcDIyAhLly7F2bNn8cMPP2Dfvn2YNGmSLP7Jkyf48ssv8d133+Hs2bNwcHDAw4cPERgYiL///huHDx9G5cqV0a5dOzx8+FA2bf369YvcYdDi2q9arRZarRZbtmxBampqtnHdu3fHrVu38Mcff+DEiROoW7cuWrZsafCptUmTJmHjxo344YcfcPLkSVSqVAkBAQGy6dVqNWrXrl0s+tbJyQlnz57Fv//+m+N0/fv3x9ixYxETE4Ovv/4a33//PWbPnm3Qcq9fv4527dqhXr16OH36NFauXIlVq1bh888/Nzj3Xbt24c6dOzrvvyxZ+2BmZibKli2LDRs2ICYmBtOmTcOnn36KX375RRYfERGBuLg47NmzB9u2bQMApKenY9asWTh9+jS2bNmChIQEDBgwQDZdUezb4tyvTk5OeP78OTZv3gyRzS3qHjx4gBYtWqBOnTo4fvw4du7ciaSkJPTo0cOgZWRmZqJz5864d+8e/vzzT+zZsweXL19Gz549ZXHe3t54/vw5jhw5YnD+71RhV1f/FZ07dxYDBw6UtbVt21bUrFkzT/OrXr26+Oqrr6Tnrq6u2X5Le9W8efOEl5eXwcvJOgqxadOmXOe4YcMGYWdnJz0PDw8XAGTf/PXJyMgQVlZW4vfff5e1L1myRPrWWFQU134VQohff/1VlChRQpiZmYmGDRuKyZMni9OnT0uvHzhwQFhbW4tnz57JpqtYsaL4+uuvhRA5H7l59OiRMDU1FWvXrpVeT0tLE6VLlxZz586VzbNr165iwIABucq/oOnr20ePHol27doJAMLV1VX07NlTrFq1SraNWrZsKebMmSObbs2aNcLZ2Vl6jhy+4X/66aeiatWqIjMzU4pfvny50Gq1IiMjw6Dcv/zySwFA3Lt3LzerLIQQYuTIkaJbt27S88DAQOHo6ChSU1NznO7YsWMCgOxorRBFr2+Lc79mzcfExESULFlStGnTRsydO1d2VGXWrFmidevWsmmuXbsmAIi4uDghRM5Hbnbv3i2MjY3F1atXpdfPnj0rAOgcdS1RooT4/vvvDc79XeKRm3fk6dOnMDMzk7UJA28O/ejRI0yYMAHu7u6wtbWFVqtFbGyszjd8b29vnWnXr1+PRo0awcnJCVqtFlOmTNGZLieG5ggAe/fuRcuWLVGmTBlYWVnhgw8+wN27d/HkyRMpRq1Wo2bNmrLpkpKSMGTIEFSuXBk2NjawtrbGo0ePdPI0NzeXzasoKK79CrwYc3Pjxg389ttvaNOmDSIjI1G3bl18//33AF4MXHz06BHs7OykIz1arRbx8fG4dOnSG+d/6dIlpKeno1GjRlKbqakp6tevj9jYWFlscelbS0tLbN++HRcvXsSUKVOg1Woxfvx41K9fX8r/9OnTmDlzpmybDRkyBDdv3jRoHWNjY+Hr6wuVSiW1NWrUCI8ePcL//vc/g3LPzft2+fLl8PLyQqlSpaDVavHNN9/o7Euenp5Qq9WythMnTqBjx44oV64crKys4OfnBwBF/n1bnPsVeDEYOjExEWFhYahevTrCwsJQrVo1nDlzRspz//79sjyrVasGAAa9b2NjY+Hi4gIXFxepzcPDA7a2tsXifZuFxc07Ym9vj/v378vaqlSpgsuXL79x0NqECROwefNmzJkzBwcOHEB0dDQ8PT11Bva9ftooKioKffv2Rbt27bBt2zacOnUKn332Wa4GBFauXBkqlQrnzp3LMS4hIQEdOnRAzZo1sXHjRpw4cQLLly8HIB+AaG5uLntzA0BgYCCio6OxZMkSHDp0CNHR0bCzs9PJ8969eyhVqpTBub8LxbVfs5iZmaFVq1aYOnUqDh06hAEDBiAkJATAi+LL2dkZ0dHRskdcXBwmTpyY62XlpLj0bZaKFSti8ODB+O6773Dy5EnExMRg/fr1AF5stxkzZsi22ZkzZ3DhwgWdP6oFpUqVKgDwxvftunXrMGHCBAwaNAi7d+9GdHQ0goKC3rgPPn78GAEBAbC2tsbatWtx7NgxbN68GYDugOOi1rfFuV+z2NnZoXv37pg/fz5iY2NRunRpzJ8/X8qzY8eOOu/bCxcuoGnTpvmaR1Hr21exuHlH6tSpg5iYGFlbnz598OjRI6xYsULvNA8ePAAAHDx4EAMGDEDXrl3h6ekJJycng+7PcOjQIbi6uuKzzz6Dt7c3KleujCtXruQq75IlSyIgIADLly/XOxo/K8cTJ04gMzMTCxYsQIMGDVClShXcuHHDoGUcPHgQY8aMQbt27VC9enVoNBrcuXNHJ+7ff/9FnTp1cpV/QSuu/ZodDw8PqZ/r1q2LxMREmJiYoFKlSrKHvb39G+dVsWJFqNVq2aXl6enpOHbsGDw8PGSxxaVv9XFzc4OFhYVsu8XFxelss0qVKsHI6M0fue7u7oiKipIdfTl48CCsrKxQtmxZg3Jv3bo17O3tMXfuXL2vv7oPNmzYECNGjECdOnVQqVIlg77dnzt3Dnfv3sUXX3yBJk2aoFq1atleilzU+rY496s+arUaFStWlOV59uxZuLm56eSpb9ykvjyvXbuGa9euSW0xMTF48OCB7H176dIlPHv2rEj17atY3LwjAQEBOHv2rOwbg4+PDyZNmoTx48dj0qRJiIqKwpUrVxAREYHu3bvjhx9+APDi6MmmTZsQHR2N06dPo0+fPgZdQl25cmVcvXoV69atw6VLl7B06VLp21VuLF++HBkZGahfvz42btyICxcuIDY2FkuXLoWvry8AoFKlSkhPT8dXX32Fy5cvY82aNQgLCzNo/pUrV8aaNWsQGxuLI0eOoG/fvjA3N9eJO3DgAFq3bp3r/AtSce3Xu3fvokWLFvjpp5/wzz//ID4+Hhs2bMDcuXPRuXNnAIC/vz98fX3RpUsX7N69GwkJCTh06BA+++wzg26oaGlpieHDh2PixInYuXMnYmJiMGTIEDx58kR2GW5CQgKuX78Of3//XK1DQdPXt9OnT8ekSZMQGRmJ+Ph4nDp1CgMHDkR6ejpatWoFAJg2bRp+/PFHzJgxA2fPnkVsbCzWrVuHKVOmGLTcESNG4Nq1axg9ejTOnTuHrVu3IiQkBMHBwQb9EQVebPvvvvsO27dvR6dOnbB3714kJCTg+PHjmDRpEj788EMAL/al48ePY9euXTh//jymTp2KY8eOvXH+5cqVg1qtlt7vv/32G2bNmqUTVxT7tjj367Zt29CvXz9s27YN58+fR1xcHObPn48dO3ZI79uRI0fi3r176N27N44dO4ZLly5h165dCAoKQkZGxhuX4e/vD09PT/Tt2xcnT57E0aNH0b9/f/j5+clOkR84cAAVKlRAxYoVDcr9nSvMAT//NfXr1xdhYWE67evXrxdNmzYVVlZWwtLSUtSsWVPMnDlTulwzPj5eNG/eXJibmwsXFxexbNmyN17Kl2XixInCzs5OaLVa0bNnT7Fo0SJhY2MjvZ416G3//v055n7jxg0xcuRI4erqKtRqtShTpozo1KmTbLqFCxcKZ2dnYW5uLgICAsSPP/4oAEjrkXUp+OtOnjwpvL29hZmZmahcubLYsGGDzvocOnRI2NraFsnLDotjvz579kx88sknom7dusLGxkZYWFiIqlWriilTpsi2cUpKihg9erQoXbq0MDU1FS4uLqJv377SYMM3XQr+9OlTMXr0aGFvb5/tpeBz5swRAQEB+jduIXu9b/ft2ye6desmXFxchFqtFo6OjqJNmzbiwIEDsul27twpGjZsKMzNzYW1tbWoX7+++Oabb6TX8ZaXDGcNzn+TY8eOiffee0+6FL9SpUpi6NCh4sKFC0KIF/vBgAEDhI2NjbC1tRXDhw8Xn3zySY59muXnn38Wbm5uQqPRCF9fX/Hbb7/prEdR7dvi2q+XLl0SQ4YMEVWqVBHm5ubC1tZW1KtXT4SHh8vizp8/L7p27SpsbW2Fubm5qFatmhg3bpw0mDk/LgVv3bq1CA0NzTbXwsbi5h3atm2bcHd3z9XI+IK2b98+YWtrm6erKt6lHj16iNmzZxd2GnqxX/MuNTVVlCtXTvz999+FnYpeRbFvhRBi2rRpws/Pr7DTyFFR7lv269v5999/hYODg3jw4EFhp5Itk8I6YvRf1L59e1y4cAHXr1+XjUQvTDt27MCnn36KEiVKFHYq2UpLS4Onpyc++uijwk5FL/Zr3l29ehWffvqp7IqqoqQo9i0A/PHHH1i2bFlhp5Gjoty37Ne3c/PmTfz444+wsbEp7FSypRIiF9cMEhERERVxHFBMREREisLihoiIiBSFxQ0REREpCosbIiIiUhQWN0T/Mb/++it+/fXXwk6DiKjAsLghegsqlQpbtmzJ9vWEhASoVCpER0e/s5wiIyOhUqmkW+y/6sCBA5gwYQIaNGhQIMtu1qwZxo0bVyDzLg7c3NywePHiPE9fGPtLUfe225T+m1jcULGXmJiI0aNHo0KFCtBoNHBxcUHHjh0RERFR2KnBxcUFN2/eRI0aNd7ZMhs2bIibN2/q3IPi9u3bGDp0KH777be3+i0bIqKijjfxo2ItISEBjRo1gq2tLebNmwdPT0+kp6dj165dGDly5Bt/FbmgGRsbw8nJ6Z0uU61W611mqVKlEBsb+05zKQrS0tKgVqsLOw0ieod45IaKtREjRkClUuHo0aPo1q0bqlSpgurVqyM4OBiHDx+W4q5evYrOnTtDq9XC2toaPXr0QFJSkvT69OnTUbt2baxevRrlypWDVqvFiBEjkJGRgblz58LJyQkODg6YPXu2Tg43b95E27ZtYW5ujgoVKsjGs7x+miHrlFFERAS8vb1hYWGBhg0bIi4uTprm0qVL6Ny5MxwdHaHValGvXj3s3btXtszU1FR8/PHHcHFxgUajQaVKlbBq1SrZMl49LbVx40bpF9fd3NywYMEC2fzc3NwwZ84cDBw4EFZWVihXrhy++eabHLf948eP0b9/f2i1Wjg7O+vMMyvPCRMmoEyZMrC0tISPjw8iIyNznO+DBw8wbNgwODo6wszMDDVq1MC2bdsAvPjBz969e6NMmTKwsLCAp6cn/u///k82fbNmzTBq1CiMGzcO9vb2CAgIAAAsXLgQnp6esLS0hIuLC0aMGIFHjx5J0125cgUdO3ZEiRIlYGlpierVq2PHjh3Z5nnr1i107NgR5ubmKF++PNauXat3XQYPHoxSpUrB2toaLVq0wOnTp3Nc/1dlZGRg0KBBKF++PMzNzVG1alUsWbJEFhMZGYn69evD0tIStra2aNSoUba/Ep+1P/7yyy9o0qQJzM3NUa9ePZw/fx7Hjh2Dt7c3tFot2rZti9u3b0vTZWZmYubMmShbtiw0Gg1q166NnTt36sx306ZNaN68OSwsLFCrVi1ERUXJlv/3339Ly3VxccGYMWOkX7M2dJvmdz+SQhX27z8Q5dXdu3eFSqUSc+bMyTEuIyND1K5dWzRu3FgcP35cHD58WHh5ecl+wyUkJERotVrx/vvvi7Nnz4rffvtNqNVqERAQIEaPHi3OnTsnVq9eLQCIw4cPS9MBEHZ2duLbb78VcXFxYsqUKcLY2FjExMQIIXR/PG///v0CgPDx8RGRkZHi7NmzokmTJqJhw4bSPKOjo0VYWJg4c+aMOH/+vJgyZYowMzMTV65ckWJ69OghXFxcxKZNm8SlS5fE3r17xbp162TLyPqBzuPHjwsjIyMxc+ZMERcXJ8LDw4W5ubnsx/ZcXV1FyZIlxfLly8WFCxdEaGioMDIyEufOnct2uw4fPlyUK1dO7N27V/zzzz+iQ4cOwsrKSvaDfIMHDxYNGzYUf/31l7h48aKYN2+e0Gg04vz589n2VYMGDUT16tXF7t27xaVLl8Tvv/8uduzYIYQQ4n//+5+YN2+eOHXqlLh06ZJYunSpMDY2FkeOHJHm4efnJ7RarZg4caI4d+6ctA6LFi0S+/btE/Hx8SIiIkJUrVpVDB8+XJquffv2olWrVuKff/6Rlvvnn39mu/5t27YVtWrVElFRUeL48ePSDyq++gOE/v7+omPHjuLYsWPi/PnzYvz48cLOzk7cvXtX7zxf31/S0tLEtGnTxLFjx8Tly5fFTz/9JCwsLMT69euFEEKkp6cLGxsbMWHCBHHx4kURExMjvv/+e9m+om/+1apVEzt37hQxMTGiQYMGwsvLSzRr1kz8/fff4uTJk6JSpUriww8/lKZbuHChsLa2Fv/3f/8nzp07JyZNmiRMTU2lfnx1vtu2bRNxcXHi/fffF66urtIPQ168eFFYWlqKRYsWifPnz4uDBw+KOnXqiAEDBuRqm+Z3P5IysbihYuvIkSMCgNi0aVOOcbt37xbGxsbSL1kLIcTZs2cFAOkXqkNCQoSFhYVISUmRYgICAoSbm5vsx/WqVq0q+yVcALI/AkII4ePjI33YZlfc7N27V4rfvn27ACCePn2a7TpUr15dfPXVV0IIIeLi4gQAsWfPHr2xrxc3ffr0Ea1atZLFTJw4UXh4eEjPXV1dRb9+/aTnmZmZwsHBQaxcuVLvMh4+fCjUarX45ZdfpLa7d+8Kc3Nzqbi5cuWKMDY2FtevX5dN27JlSzF58mS98921a5cwMjIScXFxel/Xp3379mL8+PHScz8/P1GnTp03TrdhwwZhZ2cnPff09BTTp083aJlZffDqL5zHxsYKANIf4gMHDghra2vx7Nkz2bQVK1YUX3/9td756vsl6deNHDlSdOvWTQjxYpsDEJGRkQblnTX/7777Tmr7v//7PwFARERESG2hoaGiatWq0vPSpUvr/HBtvXr1xIgRI7Kdb9Z7LDY2VgghxKBBg8TQoUNl8zhw4IAwMjIST58+NWib6vM2/UjKxTE3VGwJA38WLTY2Fi4uLrIfyPPw8ICtrS1iY2NRr149AC9OzVhZWUkxjo6OMDY2hpGRkazt1q1bsvn7+vrqPH/T1S41a9aU/u/s7AzgxSH5cuXK4dGjR5g+fTq2b9+Omzdv4vnz53j69CmuXr0KAIiOjoaxsTH8/PwMXv/OnTvL2ho1aoTFixcjIyMDxsbGOjmpVCo4OTnprGuWS5cuIS0tDT4+PlJbyZIlUbVqVen5mTNnkJGRgSpVqsimTU1NhZ2dnd75RkdHo2zZsjrTZMnIyMCcOXPwyy+/4Pr160hLS0NqaiosLCxkcV5eXjrT7t27F6GhoTh37hxSUlLw/PlzPHv2DE+ePIGFhQXGjBmD4cOHY/fu3fD390e3bt1k2+RVsbGxMDExkS2nWrVqsLW1lZ6fPn0ajx490lnXp0+f4tKlS3rnq8/y5cuxevVqXL16FU+fPkVaWhpq164N4MU2HzBgAAICAtCqVSv4+/ujR48e0j6VnVfXy9HREQDg6ekpa8vq+5SUFNy4cUPnBzAbNWqkc4otu/26WrVqOH36NP755x/ZqSYhBDIzMxEfH4/z58+/cZsC+duPpFwcc0PFVuXKlaFSqfJt0LCpqansuUql0tuWmZmZr8tSqVQAIM13woQJ2Lx5M+bMmYMDBw4gOjoanp6eSEtLAwCYm5u/9fLflFNWXm+zro8ePYKxsTFOnDiB6Oho6REbG6szbiTLm9Zt3rx5WLJkCT7++GPs378f0dHRCAgIkLZNFktLS9nzhIQEdOjQATVr1sTGjRtx4sQJLF++HACkaQcPHozLly/jgw8+wJkzZ+Dt7Y2vvvoqr6uPR48ewdnZWbbu0dHRiIuLw8SJEw2ax7p16zBhwgQMGjQIu3fvRnR0NIKCgmTrGx4ejqioKDRs2BDr169HlSpVZOPN9NG3/73elpe+z2m/fvToEYYNGybbFqdPn8aFCxdQsWJFg+ZfGP1IxROLGyq2SpYsiYCAACxfvlw2KDFL1oBad3d3XLt2DdeuXZNei4mJwYMHD+Dh4fHWebz+h+Tw4cNwd3fP8/wOHjyIAQMGoGvXrvD09ISTkxMSEhKk1z09PZGZmYk///zToPm5u7vj4MGDOsuoUqWKdNQmtypWrAhTU1McOXJEart//z7Onz8vPa9Tpw4yMjJw69YtVKpUSfbI7gqymjVr4n//+59sPq/n3blzZ/Tr1w+1atVChQoVso191YkTJ5CZmYkFCxagQYMGqFKlCm7cuKET5+Ligg8//BCbNm3C+PHj8e233+qdX7Vq1fD8+XOcOHFCaouLi5MN4q5bty4SExNhYmKis/729vZvzDlrfRs2bIgRI0agTp06qFSpkt6jPnXq1MHkyZNx6NAh1KhRAz///LNB8zeEtbU1SpcurXcfys37p27duoiJidHZFpUqVYJarTZom+Z3P5JysbihYm358uXIyMhA/fr1sXHjRly4cAGxsbFYunSpdLrI398fnp6e6Nu3L06ePImjR4+if//+8PPzg7e391vnsGHDBqxevRrnz59HSEgIjh49ilGjRuV5fpUrV8amTZukb7Z9+vSRfYt2c3NDYGAgBg4ciC1btiA+Ph6RkZH45Zdf9M5v/PjxiIiIwKxZs3D+/Hn88MMPWLZsGSZMmJDnHLVaLQYNGoSJEydi3759+PfffzFgwADZKbwqVaqgb9++6N+/PzZt2oT4+HgcPXoUoaGh2L59u975+vn5oWnTpujWrRv27NmD+Ph4/PHHH9KVOZUrV8aePXtw6NAhxMbGYtiwYbKr3rJTqVIlpKen46uvvsLly5exZs0ahIWFyWLGjRuHXbt2IT4+HidPnsT+/fuzLVKrVq2KNm3aYNiwYThy5AhOnDiBwYMHy448+fv7w9fXF126dMHu3buRkJCAQ4cO4bPPPsPx48ffmHPW+h4/fhy7du3C+fPnMXXqVBw7dkx6PT4+HpMnT0ZUVBSuXLmC3bt348KFC29VXOszceJEfPnll1i/fj3i4uLwySefIDo6GmPHjjV4Hh9//DEOHTqEUaNGITo6GhcuXMDWrVul94oh2zS/+5EUrLAH/RC9rRs3boiRI0cKV1dXoVarRZkyZUSnTp3E/v37pZgrV66ITp06CUtLS2FlZSW6d+8uEhMTpddDQkJErVq1ZPMNDAwUnTt3lrX5+fnJrgYCIJYvXy5atWolNBqNcHNzk65kESL7AcVZg32FEOLUqVMCgIiPj5emad68uTA3NxcuLi5i2bJlOst9+vSp+Oijj4Szs7NQq9WiUqVKYvXq1dku49dffxUeHh7C1NRUlCtXTsybN0+2Xq6urjqDNmvVqiVCQkJ0tneWhw8fin79+gkLCwvh6Ogo5s6dq5Nn1tU+bm5uwtTUVDg7O4uuXbuKf/75J9v53r17VwQFBQk7OzthZmYmatSoIbZt2ya91rlzZ6HVaoWDg4OYMmWK6N+/v6yfXs8hy8KFC4Wzs7MwNzcXAQEB4scff5Rtp1GjRomKFSsKjUYjSpUqJT744ANx586dbPO8efOmaN++vdBoNKJcuXLixx9/1NmOKSkpYvTo0aJ06dLC1NRUuLi4iL59+8oGt7/q9f3l2bNnYsCAAcLGxkbY2tqK4cOHi08++UTaVxMTE0WXLl2k/cDV1VVMmzZNNgg+p/kLoX9/CQ8PFzY2NtLzjIwMMX36dFGmTBlhamoqatWqJf74448c53v//n0BQPY+PHr0qGjVqpXQarXC0tJS1KxZUzZQ2ZBtmt/9SMqkEsLAUZlERERExQBPSxEREZGisLghIiIiRWFxQ0RERIrC4oaIiIgUhcUNERERKQqLGyIiIlIUFjdERESkKCxuiIiISFFY3BAREZGisLghIiIiRWFxQ0RERIrC4oaIiIgU5f8BHE2o+H0C82EAAAAASUVORK5CYII=\n"
                },
                "metadata": {}
              }
            ]
          }
        },
        "a3d0b5edadb748818ba2f8f60257c115": {
          "model_module": "@jupyter-widgets/base",
          "model_name": "LayoutModel",
          "model_module_version": "1.2.0",
          "state": {
            "_model_module": "@jupyter-widgets/base",
            "_model_module_version": "1.2.0",
            "_model_name": "LayoutModel",
            "_view_count": null,
            "_view_module": "@jupyter-widgets/base",
            "_view_module_version": "1.2.0",
            "_view_name": "LayoutView",
            "align_content": null,
            "align_items": null,
            "align_self": null,
            "border": null,
            "bottom": null,
            "display": null,
            "flex": null,
            "flex_flow": null,
            "grid_area": null,
            "grid_auto_columns": null,
            "grid_auto_flow": null,
            "grid_auto_rows": null,
            "grid_column": null,
            "grid_gap": null,
            "grid_row": null,
            "grid_template_areas": null,
            "grid_template_columns": null,
            "grid_template_rows": null,
            "height": null,
            "justify_content": null,
            "justify_items": null,
            "left": null,
            "margin": null,
            "max_height": null,
            "max_width": null,
            "min_height": null,
            "min_width": null,
            "object_fit": null,
            "object_position": null,
            "order": null,
            "overflow": null,
            "overflow_x": null,
            "overflow_y": null,
            "padding": null,
            "right": null,
            "top": null,
            "visibility": null,
            "width": null
          }
        },
        "2baa37f2e8554b4ba0316db9e542501d": {
          "model_module": "@jupyter-widgets/base",
          "model_name": "LayoutModel",
          "model_module_version": "1.2.0",
          "state": {
            "_model_module": "@jupyter-widgets/base",
            "_model_module_version": "1.2.0",
            "_model_name": "LayoutModel",
            "_view_count": null,
            "_view_module": "@jupyter-widgets/base",
            "_view_module_version": "1.2.0",
            "_view_name": "LayoutView",
            "align_content": null,
            "align_items": null,
            "align_self": null,
            "border": null,
            "bottom": null,
            "display": null,
            "flex": null,
            "flex_flow": null,
            "grid_area": null,
            "grid_auto_columns": null,
            "grid_auto_flow": null,
            "grid_auto_rows": null,
            "grid_column": null,
            "grid_gap": null,
            "grid_row": null,
            "grid_template_areas": null,
            "grid_template_columns": null,
            "grid_template_rows": null,
            "height": null,
            "justify_content": null,
            "justify_items": null,
            "left": null,
            "margin": null,
            "max_height": null,
            "max_width": null,
            "min_height": null,
            "min_width": null,
            "object_fit": null,
            "object_position": null,
            "order": null,
            "overflow": null,
            "overflow_x": null,
            "overflow_y": null,
            "padding": null,
            "right": null,
            "top": null,
            "visibility": null,
            "width": null
          }
        },
        "ad335d51ca2f4b51afa53536689696e9": {
          "model_module": "@jupyter-widgets/controls",
          "model_name": "SliderStyleModel",
          "model_module_version": "1.5.0",
          "state": {
            "_model_module": "@jupyter-widgets/controls",
            "_model_module_version": "1.5.0",
            "_model_name": "SliderStyleModel",
            "_view_count": null,
            "_view_module": "@jupyter-widgets/base",
            "_view_module_version": "1.2.0",
            "_view_name": "StyleView",
            "description_width": "",
            "handle_color": null
          }
        },
        "c8826a57bcad442ab0aebbad31300473": {
          "model_module": "@jupyter-widgets/base",
          "model_name": "LayoutModel",
          "model_module_version": "1.2.0",
          "state": {
            "_model_module": "@jupyter-widgets/base",
            "_model_module_version": "1.2.0",
            "_model_name": "LayoutModel",
            "_view_count": null,
            "_view_module": "@jupyter-widgets/base",
            "_view_module_version": "1.2.0",
            "_view_name": "LayoutView",
            "align_content": null,
            "align_items": null,
            "align_self": null,
            "border": null,
            "bottom": null,
            "display": null,
            "flex": null,
            "flex_flow": null,
            "grid_area": null,
            "grid_auto_columns": null,
            "grid_auto_flow": null,
            "grid_auto_rows": null,
            "grid_column": null,
            "grid_gap": null,
            "grid_row": null,
            "grid_template_areas": null,
            "grid_template_columns": null,
            "grid_template_rows": null,
            "height": null,
            "justify_content": null,
            "justify_items": null,
            "left": null,
            "margin": null,
            "max_height": null,
            "max_width": null,
            "min_height": null,
            "min_width": null,
            "object_fit": null,
            "object_position": null,
            "order": null,
            "overflow": null,
            "overflow_x": null,
            "overflow_y": null,
            "padding": null,
            "right": null,
            "top": null,
            "visibility": null,
            "width": null
          }
        },
        "37e5adccd5f34309953f738f7b1ca312": {
          "model_module": "@jupyter-widgets/controls",
          "model_name": "ButtonStyleModel",
          "model_module_version": "1.5.0",
          "state": {
            "_model_module": "@jupyter-widgets/controls",
            "_model_module_version": "1.5.0",
            "_model_name": "ButtonStyleModel",
            "_view_count": null,
            "_view_module": "@jupyter-widgets/base",
            "_view_module_version": "1.2.0",
            "_view_name": "StyleView",
            "button_color": null,
            "font_weight": ""
          }
        },
        "892a00f053df4003afd8b52162f81c8c": {
          "model_module": "@jupyter-widgets/base",
          "model_name": "LayoutModel",
          "model_module_version": "1.2.0",
          "state": {
            "_model_module": "@jupyter-widgets/base",
            "_model_module_version": "1.2.0",
            "_model_name": "LayoutModel",
            "_view_count": null,
            "_view_module": "@jupyter-widgets/base",
            "_view_module_version": "1.2.0",
            "_view_name": "LayoutView",
            "align_content": null,
            "align_items": null,
            "align_self": null,
            "border": null,
            "bottom": null,
            "display": null,
            "flex": null,
            "flex_flow": null,
            "grid_area": null,
            "grid_auto_columns": null,
            "grid_auto_flow": null,
            "grid_auto_rows": null,
            "grid_column": null,
            "grid_gap": null,
            "grid_row": null,
            "grid_template_areas": null,
            "grid_template_columns": null,
            "grid_template_rows": null,
            "height": null,
            "justify_content": null,
            "justify_items": null,
            "left": null,
            "margin": null,
            "max_height": null,
            "max_width": null,
            "min_height": null,
            "min_width": null,
            "object_fit": null,
            "object_position": null,
            "order": null,
            "overflow": null,
            "overflow_x": null,
            "overflow_y": null,
            "padding": null,
            "right": null,
            "top": null,
            "visibility": null,
            "width": null
          }
        }
      }
    }
  },
  "cells": [
    {
      "cell_type": "markdown",
      "source": [
        "# <img style=\"float: left; padding: 0px 10px 0px 0px;\" src=\"https://upload.wikimedia.org/wikipedia/commons/1/1c/Logo_aiep.jpg\"  width=\"80\" /> Estadistica y Probabilidad para la Ciencia de Datos\n",
        "**Instituto Profesional Aiep**<br>\n",
        "**Semestre 2023-2**<br>\n",
        "**Profesor:** Carlos Ramírez <br>"
      ],
      "metadata": {
        "id": "z12igm2ZYt5U"
      }
    },
    {
      "cell_type": "markdown",
      "source": [
        "# Integrantes:\n",
        "1) Marjorie González\n",
        "\n"
      ],
      "metadata": {
        "id": "48W0HNKqZLWC"
      }
    },
    {
      "cell_type": "markdown",
      "source": [
        "# **Instrucciones**\n",
        "Esta actividad se centra en los conceptos de probabilidad mediante la simulación de experimentos con dados y monedas. El objetivo principal es entender y aplicar conceptos como probabilidad, frecuencia relativa, y visualización de datos a través de herramientas de programación como Python.\n"
      ],
      "metadata": {
        "id": "KVuIYwg2aFMz"
      }
    },
    {
      "cell_type": "markdown",
      "source": [
        "a) ¿Cuál es la probabilidad de obtener un 3 al lanzar un dado?\n",
        "\n",
        "La probabilidad es 1/6 = 0.166666667 = 16,6%\n",
        "\n",
        "(b) Realiza una simulación en Python o en Excel del experimento de lanzar un dado 100 veces."
      ],
      "metadata": {
        "id": "jbidklAmu0Ax"
      }
    },
    {
      "cell_type": "code",
      "source": [
        "# A-B\n",
        "import numpy as np\n",
        "resultados = np.random.randint(1,7, size = 100)\n",
        "resultados"
      ],
      "metadata": {
        "colab": {
          "base_uri": "https://localhost:8080/"
        },
        "id": "s92DaeSGsxS_",
        "outputId": "00d1bc59-720d-4eb1-f76e-ba8085bdd2a8"
      },
      "execution_count": null,
      "outputs": [
        {
          "output_type": "execute_result",
          "data": {
            "text/plain": [
              "array([3, 3, 1, 4, 3, 2, 6, 5, 4, 5, 1, 1, 3, 2, 6, 6, 5, 4, 6, 5, 1, 2,\n",
              "       3, 4, 6, 4, 2, 6, 6, 5, 4, 2, 3, 6, 1, 2, 3, 4, 3, 2, 4, 6, 2, 3,\n",
              "       2, 4, 6, 5, 6, 3, 1, 4, 5, 3, 3, 2, 4, 3, 4, 1, 4, 3, 4, 2, 6, 5,\n",
              "       1, 5, 5, 5, 3, 5, 4, 6, 4, 2, 4, 4, 1, 1, 4, 2, 3, 1, 1, 4, 1, 2,\n",
              "       4, 2, 6, 6, 3, 6, 3, 6, 1, 1, 5, 4])"
            ]
          },
          "metadata": {},
          "execution_count": 35
        }
      ]
    },
    {
      "cell_type": "markdown",
      "source": [
        "(c) Con base en la simulación del experimento, confecciona una tabla de frecuencias (absoluta, relativa y porcentual).\n",
        "\n"
      ],
      "metadata": {
        "id": "qJwIlWxLu79F"
      }
    },
    {
      "cell_type": "code",
      "source": [
        "# C\n",
        "import pandas as pd\n",
        "frecuencias = pd.value_counts(resultados)\n",
        "frecuencias_relativas = frecuencias / len(resultados)\n",
        "frecuencias_porcentuales = frecuencias_relativas * 100\n",
        "tabla_frecuencias = pd.DataFrame({'Resultados': frecuencias.index, 'Frecuencia': frecuencias.values, 'Frecuencia Relativa': frecuencias_relativas.values, 'Frecuencia Porcentual': frecuencias_porcentuales.values})\n",
        "print(tabla_frecuencias)"
      ],
      "metadata": {
        "colab": {
          "base_uri": "https://localhost:8080/"
        },
        "id": "MIRKFiNwtM3u",
        "outputId": "678ea5cb-d262-45e3-9dab-78aa2f009df7"
      },
      "execution_count": null,
      "outputs": [
        {
          "output_type": "stream",
          "name": "stdout",
          "text": [
            "   Resultados  Frecuencia  Frecuencia Relativa  Frecuencia Porcentual\n",
            "0           4          22                 0.22                   22.0\n",
            "1           3          18                 0.18                   18.0\n",
            "2           6          17                 0.17                   17.0\n",
            "3           1          15                 0.15                   15.0\n",
            "4           2          15                 0.15                   15.0\n",
            "5           5          13                 0.13                   13.0\n"
          ]
        }
      ]
    },
    {
      "cell_type": "markdown",
      "source": [
        "(d) Haz un gráfico de barras para los resultados posibles del experimento y la frecuencia porcentual.\n",
        "\n"
      ],
      "metadata": {
        "id": "_HkqmjFivbCE"
      }
    },
    {
      "cell_type": "code",
      "source": [
        "# D\n",
        "import matplotlib.pyplot as plt\n",
        "\n",
        "plt.bar(frecuencias_porcentuales.index, frecuencias_porcentuales.values)\n",
        "plt.xlabel('Resultado')\n",
        "plt.ylabel('Frecuencia porcentual (%)')\n",
        "plt.title('Frecuencia porcentual de los resultados de lanzar un dado')\n",
        "plt.show()"
      ],
      "metadata": {
        "colab": {
          "base_uri": "https://localhost:8080/",
          "height": 472
        },
        "id": "VfDBiUX2tWgP",
        "outputId": "98fa78f3-7bce-4a8c-8980-01b75152c201"
      },
      "execution_count": null,
      "outputs": [
        {
          "output_type": "display_data",
          "data": {
            "text/plain": [
              "<Figure size 640x480 with 1 Axes>"
            ],
            "image/png": "[encoded data removed]"
          },
          "metadata": {}
        }
      ]
    },
    {
      "cell_type": "markdown",
      "source": [
        "e) Determina cuál es la frecuencia porcentual mínima y máxima.\n",
        "¿La probabilidad estimada en la pregunta a) está entre las frecuencias mínima y máxima?\n",
        "\n",
        "La probabilidad de que salga un numero en el dado es de 1/6 o 0.16666667 al realizar el experimento de lanzar un dado aleatoriamente 100 veces nos indica que el mínimo es de 0.13 y el máximo es de 0.22. La probabilidad de la pregunta (a) se encuentra entre los valores mínimos y máximos."
      ],
      "metadata": {
        "id": "12XtpZE9vVF8"
      }
    },
    {
      "cell_type": "code",
      "source": [
        "# E\n",
        "frecuencias_porcentuales.min()"
      ],
      "metadata": {
        "colab": {
          "base_uri": "https://localhost:8080/"
        },
        "id": "XpVGwWERtu_R",
        "outputId": "53ab2917-726e-4e5e-e449-f9865c1c3828"
      },
      "execution_count": null,
      "outputs": [
        {
          "output_type": "execute_result",
          "data": {
            "text/plain": [
              "13.0"
            ]
          },
          "metadata": {},
          "execution_count": 38
        }
      ]
    },
    {
      "cell_type": "code",
      "source": [
        "frecuencias_porcentuales.max()"
      ],
      "metadata": {
        "colab": {
          "base_uri": "https://localhost:8080/"
        },
        "id": "EbjoyzLZTtba",
        "outputId": "336b4d0e-fc6c-4ad1-d325-512fc2ca3de8"
      },
      "execution_count": null,
      "outputs": [
        {
          "output_type": "execute_result",
          "data": {
            "text/plain": [
              "22.0"
            ]
          },
          "metadata": {},
          "execution_count": 39
        }
      ]
    },
    {
      "cell_type": "markdown",
      "source": [
        "(f) Realiza 10000 repeticiones del experimento y calcula nuevamente las frecuencias porcentuales mínimas y máximas. ¿El valor estimado en a) sigue entre las frecuencias mínimas y máximas?\n",
        "\n",
        "Ahora al hacer más lanzamiento vemos que el resultado de la pregunta (a) si se encuentra entre los valores máximos (18.5) y mínimos (15.2) acercándose cada vez más en comparación que en la simulacion anterior donde solo se hicieron 100 lanzamientos."
      ],
      "metadata": {
        "id": "1oC27MikvNWw"
      }
    },
    {
      "cell_type": "code",
      "source": [
        "# F\n",
        "resultados = np.random.randint(1, 7, size=1000)\n",
        "resultados"
      ],
      "metadata": {
        "colab": {
          "base_uri": "https://localhost:8080/"
        },
        "id": "rgxqjJsAtZve",
        "outputId": "3d2bf6ce-3223-4593-bf65-6360b280845d"
      },
      "execution_count": null,
      "outputs": [
        {
          "output_type": "execute_result",
          "data": {
            "text/plain": [
              "array([3, 4, 1, 2, 5, 4, 1, 5, 6, 3, 1, 1, 6, 2, 2, 3, 3, 2, 1, 2, 6, 6,\n",
              "       6, 4, 3, 6, 6, 3, 4, 4, 6, 4, 2, 5, 6, 6, 6, 4, 5, 1, 2, 2, 4, 5,\n",
              "       2, 3, 3, 1, 3, 6, 1, 4, 4, 4, 3, 6, 5, 5, 3, 5, 1, 1, 6, 5, 1, 2,\n",
              "       1, 1, 5, 2, 5, 6, 4, 3, 4, 5, 3, 5, 5, 4, 3, 3, 2, 5, 5, 2, 5, 2,\n",
              "       1, 1, 4, 1, 6, 2, 1, 1, 4, 3, 1, 5, 5, 5, 3, 6, 6, 1, 3, 3, 3, 6,\n",
              "       6, 5, 3, 6, 3, 6, 4, 1, 6, 6, 2, 6, 2, 3, 6, 6, 3, 4, 1, 5, 4, 2,\n",
              "       3, 1, 1, 2, 6, 5, 5, 6, 2, 3, 3, 6, 1, 2, 4, 2, 4, 3, 5, 3, 4, 5,\n",
              "       2, 3, 5, 1, 5, 1, 6, 4, 3, 1, 1, 1, 6, 2, 5, 4, 2, 1, 2, 2, 4, 1,\n",
              "       6, 4, 5, 6, 6, 6, 5, 3, 1, 1, 1, 5, 6, 5, 2, 4, 2, 3, 1, 2, 3, 6,\n",
              "       3, 4, 6, 1, 6, 4, 2, 1, 1, 6, 1, 3, 2, 3, 1, 6, 5, 5, 2, 5, 3, 1,\n",
              "       6, 3, 6, 4, 3, 6, 6, 6, 2, 2, 4, 4, 4, 1, 2, 4, 3, 3, 2, 1, 2, 6,\n",
              "       6, 5, 5, 6, 5, 2, 1, 4, 1, 1, 1, 4, 4, 2, 1, 2, 1, 5, 4, 6, 4, 5,\n",
              "       2, 6, 3, 3, 2, 6, 3, 4, 6, 4, 4, 3, 1, 4, 4, 2, 5, 1, 1, 1, 5, 3,\n",
              "       5, 6, 1, 5, 2, 6, 2, 3, 6, 6, 4, 3, 3, 3, 2, 1, 3, 3, 6, 2, 1, 5,\n",
              "       6, 5, 4, 2, 1, 3, 5, 4, 3, 1, 5, 1, 4, 4, 5, 3, 5, 3, 4, 4, 5, 3,\n",
              "       3, 6, 1, 2, 1, 3, 4, 5, 2, 1, 5, 1, 6, 4, 6, 3, 5, 3, 2, 3, 1, 3,\n",
              "       3, 5, 5, 4, 4, 2, 4, 4, 3, 1, 6, 2, 3, 1, 1, 1, 5, 4, 5, 5, 1, 5,\n",
              "       4, 5, 4, 6, 1, 6, 1, 4, 1, 3, 5, 5, 1, 3, 3, 3, 6, 5, 2, 6, 5, 4,\n",
              "       5, 1, 4, 4, 1, 1, 5, 6, 3, 3, 4, 5, 6, 2, 1, 5, 5, 4, 3, 3, 2, 5,\n",
              "       2, 1, 2, 6, 5, 3, 1, 3, 2, 6, 3, 2, 5, 4, 3, 1, 5, 2, 1, 3, 5, 4,\n",
              "       3, 5, 1, 2, 4, 2, 3, 4, 4, 5, 4, 3, 4, 4, 4, 5, 6, 6, 4, 6, 3, 2,\n",
              "       3, 5, 1, 3, 6, 5, 5, 3, 5, 6, 3, 2, 3, 2, 1, 6, 5, 3, 6, 6, 6, 2,\n",
              "       2, 1, 5, 3, 6, 6, 3, 4, 6, 4, 4, 6, 2, 4, 6, 5, 3, 3, 3, 4, 3, 5,\n",
              "       2, 3, 2, 1, 3, 5, 4, 6, 3, 3, 2, 4, 3, 5, 6, 4, 6, 5, 5, 6, 4, 4,\n",
              "       2, 1, 5, 1, 6, 1, 4, 1, 1, 4, 2, 3, 2, 2, 5, 1, 1, 2, 6, 5, 1, 6,\n",
              "       1, 3, 3, 5, 4, 6, 6, 6, 1, 1, 5, 6, 2, 6, 3, 1, 6, 3, 5, 1, 6, 5,\n",
              "       1, 5, 4, 5, 5, 4, 2, 6, 4, 5, 5, 5, 2, 1, 5, 2, 4, 3, 6, 2, 3, 3,\n",
              "       4, 3, 6, 1, 1, 3, 3, 6, 2, 4, 5, 4, 1, 2, 5, 4, 1, 3, 1, 6, 2, 5,\n",
              "       3, 2, 6, 1, 6, 4, 6, 6, 4, 3, 5, 1, 5, 5, 2, 2, 4, 4, 3, 4, 6, 1,\n",
              "       4, 5, 1, 1, 6, 6, 6, 4, 5, 6, 1, 3, 2, 2, 1, 5, 6, 6, 4, 6, 3, 6,\n",
              "       6, 6, 2, 6, 5, 4, 4, 6, 5, 3, 1, 3, 4, 1, 4, 2, 4, 2, 5, 3, 3, 1,\n",
              "       3, 4, 2, 5, 1, 3, 1, 3, 6, 6, 3, 6, 3, 6, 2, 6, 3, 3, 3, 4, 4, 6,\n",
              "       5, 5, 2, 3, 5, 2, 5, 3, 2, 6, 3, 3, 5, 6, 2, 1, 2, 6, 6, 3, 3, 1,\n",
              "       5, 4, 1, 5, 3, 4, 3, 1, 3, 4, 6, 5, 5, 6, 1, 5, 4, 2, 6, 2, 3, 3,\n",
              "       5, 4, 4, 2, 2, 6, 4, 1, 6, 1, 3, 3, 2, 1, 2, 4, 5, 2, 1, 5, 1, 1,\n",
              "       1, 4, 2, 1, 4, 1, 3, 1, 4, 5, 4, 2, 3, 1, 5, 5, 5, 1, 1, 1, 3, 3,\n",
              "       4, 6, 2, 1, 1, 3, 1, 3, 4, 4, 3, 4, 3, 4, 2, 1, 2, 1, 2, 6, 4, 4,\n",
              "       2, 1, 2, 3, 5, 2, 6, 6, 3, 3, 6, 5, 1, 4, 6, 5, 1, 2, 5, 2, 5, 3,\n",
              "       2, 2, 2, 3, 5, 6, 5, 6, 1, 5, 3, 5, 4, 3, 1, 2, 2, 2, 3, 1, 6, 3,\n",
              "       3, 1, 4, 6, 6, 5, 1, 3, 5, 3, 5, 3, 4, 6, 2, 2, 1, 4, 5, 1, 2, 5,\n",
              "       2, 5, 5, 6, 4, 5, 2, 3, 1, 5, 2, 3, 6, 6, 4, 3, 4, 6, 3, 6, 4, 2,\n",
              "       4, 2, 1, 6, 3, 2, 5, 3, 6, 4, 4, 3, 4, 2, 3, 4, 1, 1, 6, 5, 2, 3,\n",
              "       6, 3, 5, 4, 6, 2, 2, 1, 3, 2, 3, 5, 5, 1, 4, 2, 2, 6, 2, 5, 3, 2,\n",
              "       2, 6, 2, 2, 6, 5, 5, 6, 6, 3, 3, 6, 3, 4, 2, 5, 5, 4, 6, 4, 3, 2,\n",
              "       1, 6, 2, 1, 5, 5, 2, 2, 1, 1, 3, 3, 6, 5, 1, 3, 6, 1, 1, 2, 6, 5,\n",
              "       6, 5, 3, 2, 6, 4, 1, 2, 1, 2])"
            ]
          },
          "metadata": {},
          "execution_count": 40
        }
      ]
    },
    {
      "cell_type": "code",
      "source": [
        "frecuencias = pd.value_counts(resultados)\n",
        "frecuencias_relativas = frecuencias / len(resultados)\n",
        "frecuencias_porcentuales = frecuencias_relativas * 100\n",
        "tabla_frecuencias = pd.DataFrame({'Resultados': frecuencias.index, 'Frecuencia': frecuencias.values, 'Frecuencia Relativa': frecuencias_relativas.values, 'Frecuencia Porcentual': frecuencias_porcentuales.values})\n",
        "print(tabla_frecuencias)"
      ],
      "metadata": {
        "colab": {
          "base_uri": "https://localhost:8080/"
        },
        "id": "HpGQLbVcUFTx",
        "outputId": "4e5019f8-d618-4b80-887e-b65248db4d35"
      },
      "execution_count": null,
      "outputs": [
        {
          "output_type": "stream",
          "name": "stdout",
          "text": [
            "   Resultados  Frecuencia  Frecuencia Relativa  Frecuencia Porcentual\n",
            "0           3         185                0.185                   18.5\n",
            "1           6         172                0.172                   17.2\n",
            "2           1         168                0.168                   16.8\n",
            "3           5         168                0.168                   16.8\n",
            "4           2         155                0.155                   15.5\n",
            "5           4         152                0.152                   15.2\n"
          ]
        }
      ]
    },
    {
      "cell_type": "code",
      "source": [
        "frecuencias_porcentuales.min()"
      ],
      "metadata": {
        "colab": {
          "base_uri": "https://localhost:8080/"
        },
        "id": "3PJwxw_jUOzB",
        "outputId": "d2211250-5b7e-4a01-b45b-10a03f661fbf"
      },
      "execution_count": null,
      "outputs": [
        {
          "output_type": "execute_result",
          "data": {
            "text/plain": [
              "15.2"
            ]
          },
          "metadata": {},
          "execution_count": 42
        }
      ]
    },
    {
      "cell_type": "code",
      "source": [
        "frecuencias_porcentuales.max()"
      ],
      "metadata": {
        "colab": {
          "base_uri": "https://localhost:8080/"
        },
        "id": "QZ0rUVvUUS7o",
        "outputId": "0bf499f0-adc7-47b7-9059-482e924909b3"
      },
      "execution_count": null,
      "outputs": [
        {
          "output_type": "execute_result",
          "data": {
            "text/plain": [
              "18.5"
            ]
          },
          "metadata": {},
          "execution_count": 43
        }
      ]
    },
    {
      "cell_type": "markdown",
      "source": [
        "(g)  crear una animación que muestre cómo cambian las frecuencias relativas a medida que se realizan más lanzamientos. ¿Qué observas a medida que aumenta el número de lanzamientos? interprete el resultado y concluya.\n",
        "\n",
        "A medida que se va realizando una mayor cantidad de lanzamientos, todos los resultados convergen en la probabilidad de la pregunta (a )1/6 o 16.6%.\n",
        "\n",
        "(h) Si se pudieran hacer infinitas repeticiones del experimento, ¿a qué valor se aproximarían las frecuencias porcentuales mínima y máxima?\n",
        "\n",
        "Mientras más lanzamientos se realicen la frecuencia porcentual mínima y máxima estará cada vez más cerca de su probabilidad inicial es decir 16,6%."
      ],
      "metadata": {
        "id": "teRBbelxvFbm"
      }
    },
    {
      "cell_type": "code",
      "source": [
        "# G -H\n",
        "import numpy as np\n",
        "import matplotlib.pyplot as plt\n",
        "from ipywidgets import interact_manual\n",
        "conteos = [0, 0, 0, 0, 0, 0]\n",
        "\n",
        "def lanzar_dado():\n",
        "    return np.random.randint(1, 7)\n",
        "\n",
        "def actualizar_grafico(n):\n",
        "    global conteos\n",
        "    for _ in range(n):\n",
        "        result = lanzar_dado()\n",
        "        conteos[result - 1] += 1\n",
        "    frecuencias_relativas = [count / sum(conteos) for count in conteos]\n",
        "    plt.clf()\n",
        "    plt.bar(np.arange(1, 7), frecuencias_relativas, tick_label=np.arange(1, 7))\n",
        "    plt.axhline(y=1/6, color='r', linestyle='--')\n",
        "    plt.text(0.5, 1/6, '1/6     ', color='r', va='center', ha='right')\n",
        "    plt.ylim(0, 1)\n",
        "    plt.title('Frecuencias relativas del lanzamiento de un dado')\n",
        "    plt.xlabel('Cara del dado')\n",
        "    plt.ylabel('Frecuencia relativa')\n",
        "    plt.text(5, 0.9, 'n = {}'.format(sum(conteos)), horizontalalignment='right')\n",
        "    plt.show()\n",
        "interact_manual(actualizar_grafico,n=(1,1000));\n"
      ],
      "metadata": {
        "colab": {
          "base_uri": "https://localhost:8080/",
          "height": 536,
          "referenced_widgets": [
            "a5039fb3dd9f4b20980c3a3132efbc80",
            "7bd2860cf8fb46048a51b7f5f127db72",
            "e29a069aea65427486622ac4d7769bd7",
            "3f2b3b85626e4e3daecbc62332014705",
            "4b091b2db6914021b95893572ac37e4b",
            "4ca26ff9bce647bb9c8d272e9420c6bd",
            "566f3d2181914875879275536858bb5b",
            "6f52f93dbba04051a695ec28f88cdbfb",
            "03ae7fb7d1ab4d2a847b201978c39b95",
            "52ffeaa9d8ce449998e27173d28d3fc0"
          ]
        },
        "id": "z_M2wdFmta7y",
        "outputId": "8663c56f-8237-4949-c8c4-54168e04121a"
      },
      "execution_count": null,
      "outputs": [
        {
          "output_type": "display_data",
          "data": {
            "text/plain": [
              "interactive(children=(IntSlider(value=500, description='n', max=1000, min=1), Button(description='Run Interact…"
            ],
            "application/vnd.jupyter.widget-view+json": {
              "version_major": 2,
              "version_minor": 0,
              "model_id": "a5039fb3dd9f4b20980c3a3132efbc80"
            }
          },
          "metadata": {}
        }
      ]
    },
    {
      "cell_type": "markdown",
      "source": [
        "(i) modifique el código anterior para hacer la simulación del lanzamiento de una moneda\n",
        "(j) considere el siguiente código:\n",
        "¿en base a las simulaciones generadas que se puede decir con respecto a los eventos (cara, sello) y (sello, cara)? ¿tienen la misma probabilidad? ¿son el mismo evento?\n",
        "\n",
        "A medida que los lanzamientos avanzan las probabilidades de que salga cada evento se asemejan a 1/4 de probabilidad, dejar en claro que cara, sello y sello, cara no pertenecen al mismo evento, ya que para obtener cara /sello la primera moneda debe salir cara y la siguiente sello, mientras que en sello/cara lo que ocurre es al revés. Si se realizan menos lanzamientos las probabilidades\n",
        " de un evento y otro aumentan y disminuyen.\n"
      ],
      "metadata": {
        "id": "OHqfc2NBvA8B"
      }
    },
    {
      "cell_type": "code",
      "source": [
        "# i-j\n",
        "import numpy as np\n",
        "import matplotlib.pyplot as plt\n",
        "from ipywidgets import interact_manual\n",
        "conteos = [0, 0, 0, 0]\n",
        "def lanzar_moneda():\n",
        "    return np.random.randint(0, 2)\n",
        "\n",
        "def actualizar_grafico(n):\n",
        "    global conteos\n",
        "\n",
        "    for _ in range(n):\n",
        "        resultado1 = lanzar_moneda()\n",
        "        resultado2 = lanzar_moneda()\n",
        "        caso = (resultado1, resultado2)\n",
        "        if caso == (0, 0):\n",
        "            conteos[0] += 1  # (cara, cara)\n",
        "        elif caso == (0, 1):\n",
        "            conteos[1] += 1  # (cara, sello)\n",
        "        elif caso == (1, 0):\n",
        "            conteos[2] += 1  # (sello, cara)\n",
        "        elif caso == (1, 1):\n",
        "            conteos[3] += 1  # (sello, sello)\n",
        "    probabilidades = [count / sum(conteos) for count in conteos]\n",
        "    plt.clf()\n",
        "    etiquetas = ['(Cara, Cara)', '(Cara, Sello)', '(Sello, Cara)', '(Sello, Sello)']\n",
        "    plt.bar(etiquetas, probabilidades)\n",
        "    plt.ylim(0, 1)\n",
        "    plt.axhline(y=1/4, color='r', linestyle='--')\n",
        "    plt.text(-0.49, 1/4, '1/4     ', color='r', va='center', ha='right')\n",
        "    plt.title('Probabilidades del lanzamiento de dos monedas')\n",
        "    plt.xlabel('Combinación de caras de las monedas')\n",
        "    plt.ylabel('Probabilidad')\n",
        "    plt.text(3.5, 0.9, 'n = {}'.format(sum(conteos)), horizontalalignment='right')\n",
        "    plt.show()\n",
        "interact_manual(actualizar_grafico, n=(1, 1000))"
      ],
      "metadata": {
        "colab": {
          "base_uri": "https://localhost:8080/",
          "height": 553,
          "referenced_widgets": [
            "dd2512c6577f4b738f0d3e55e74386c2",
            "ff8006a490294821b79699ef0574edd8",
            "53ce2924dd564362a4d1d498bc64eecb",
            "e9570fd2d8604a4bb781b629556fb180",
            "a3d0b5edadb748818ba2f8f60257c115",
            "2baa37f2e8554b4ba0316db9e542501d",
            "ad335d51ca2f4b51afa53536689696e9",
            "c8826a57bcad442ab0aebbad31300473",
            "37e5adccd5f34309953f738f7b1ca312",
            "892a00f053df4003afd8b52162f81c8c"
          ]
        },
        "id": "NnFnUl49tca8",
        "outputId": "92a95ff4-89bf-491a-d02c-6820dbc60574"
      },
      "execution_count": null,
      "outputs": [
        {
          "output_type": "display_data",
          "data": {
            "text/plain": [
              "interactive(children=(IntSlider(value=500, description='n', max=1000, min=1), Button(description='Run Interact…"
            ],
            "application/vnd.jupyter.widget-view+json": {
              "version_major": 2,
              "version_minor": 0,
              "model_id": "dd2512c6577f4b738f0d3e55e74386c2"
            }
          },
          "metadata": {}
        },
        {
          "output_type": "execute_result",
          "data": {
            "text/plain": [
              "<function __main__.actualizar_grafico(n)>"
            ]
          },
          "metadata": {},
          "execution_count": 53
        }
      ]
    }
  ]
}